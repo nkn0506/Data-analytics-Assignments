{
 "cells": [
  {
   "cell_type": "markdown",
   "metadata": {},
   "source": [
    "# find out the solution of linera equ"
   ]
  },
  {
   "cell_type": "code",
   "execution_count": 7,
   "metadata": {},
   "outputs": [
    {
     "name": "stdout",
     "output_type": "stream",
     "text": [
      "m1=\n",
      " [[3 1 2]\n",
      " [3 2 5]\n",
      " [6 7 8]]\n",
      "m2=\n",
      " [[ 2]\n",
      " [-1]\n",
      " [ 3]]\n",
      "ans is:\n",
      " [[ 1.24242424]\n",
      " [ 0.81818182]\n",
      " [-1.27272727]]\n"
     ]
    }
   ],
   "source": [
    "import numpy as num\n",
    "m1=num.matrix(\"3,1,2;3,2,5;6,7,8\")\n",
    "m2=num.matrix(\"2,-1,3\").transpose()\n",
    "print(\"m1=\\n\",m1)\n",
    "print(\"m2=\\n\",m2)\n",
    "ans=num.linalg.solve(m1,m2)\n",
    "print(\"ans is:\\n\",ans)"
   ]
  },
  {
   "cell_type": "code",
   "execution_count": 6,
   "metadata": {},
   "outputs": [
    {
     "name": "stdout",
     "output_type": "stream",
     "text": [
      "m1=\n",
      " [[3 1 2]\n",
      " [3 2 5]\n",
      " [6 7 8]]\n",
      "m2=\n",
      " [[ 2]\n",
      " [-1]\n",
      " [ 3]]\n",
      "ans is:\n",
      " [[ 1.24242424]\n",
      " [ 0.81818182]\n",
      " [-1.27272727]]\n"
     ]
    }
   ],
   "source": [
    "import numpy as num\n",
    "m1=num.matrix(\"3,1,2;3,2,5;6,7,8\")\n",
    "m2=num.matrix(\"2,-1,3\").transpose()\n",
    "print(\"m1=\\n\",m1)\n",
    "print(\"m2=\\n\",m2)\n",
    "ans=num.linalg.solve(m1,m2)\n",
    "print(\"ans is:\\n\",ans)"
   ]
  }
 ],
 "metadata": {
  "kernelspec": {
   "display_name": "Python 3",
   "language": "python",
   "name": "python3"
  },
  "language_info": {
   "codemirror_mode": {
    "name": "ipython",
    "version": 3
   },
   "file_extension": ".py",
   "mimetype": "text/x-python",
   "name": "python",
   "nbconvert_exporter": "python",
   "pygments_lexer": "ipython3",
   "version": "3.8.5"
  }
 },
 "nbformat": 4,
 "nbformat_minor": 4
}
