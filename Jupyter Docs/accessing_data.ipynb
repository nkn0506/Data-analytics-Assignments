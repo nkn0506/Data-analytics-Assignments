{
 "cells": [
  {
   "cell_type": "code",
   "execution_count": null,
   "metadata": {},
   "outputs": [],
   "source": [
    "#ROLL NO:22150\n",
    "#NAME: Neha Kamalakar Nemade"
   ]
  },
  {
   "cell_type": "code",
   "execution_count": 1,
   "metadata": {},
   "outputs": [],
   "source": [
    "import os"
   ]
  },
  {
   "cell_type": "code",
   "execution_count": 2,
   "metadata": {},
   "outputs": [],
   "source": [
    "os.chdir('C:/Users/ADMIN/Desktop/My DataBase')"
   ]
  },
  {
   "cell_type": "code",
   "execution_count": 3,
   "metadata": {},
   "outputs": [],
   "source": [
    "import sqlite3 as sq\n",
    "\n",
    "db = sq.connect('mynewdb.db')\n",
    "cur = db.cursor()\n",
    "cur.execute('''create table mynewtab14(Roll_no integer primary key, Name text, Marks integer);''')\n",
    "db.close()"
   ]
  },
  {
   "cell_type": "code",
   "execution_count": 4,
   "metadata": {},
   "outputs": [],
   "source": [
    "db = sq.connect('mynewdb.db')\n",
    "cur = db.cursor()\n",
    "cur.execute('''insert into mynewtab14 values(1,'Tom',99);''')\n",
    "db.commit()\n",
    "db.close()"
   ]
  },
  {
   "cell_type": "code",
   "execution_count": 5,
   "metadata": {},
   "outputs": [],
   "source": [
    "db = sq.connect('mynewdb.db')\n",
    "cur = db.cursor()\n",
    "cur.execute('''insert into mynewtab14 values(2,'Sammy',89);''')\n",
    "db.commit()\n",
    "db.close()"
   ]
  },
  {
   "cell_type": "code",
   "execution_count": 6,
   "metadata": {},
   "outputs": [],
   "source": [
    "db = sq.connect('mynewdb.db')\n",
    "cur = db.cursor()\n",
    "cur.execute('''insert into mynewtab14 values(3,'Avantika',80);''')\n",
    "db.commit()\n",
    "db.close()"
   ]
  },
  {
   "cell_type": "code",
   "execution_count": 7,
   "metadata": {},
   "outputs": [
    {
     "name": "stdout",
     "output_type": "stream",
     "text": [
      "[(1, 'Tom', 99), (2, 'Sammy', 89), (3, 'Avantika', 80)]\n"
     ]
    }
   ],
   "source": [
    "db = sq.connect('mynewdb.db')\n",
    "cur = db.cursor()\n",
    "cur.execute('''select * from mynewtab11;''')\n",
    "x = cur.fetchall()\n",
    "print(x)\n",
    "db.close()"
   ]
  },
  {
   "cell_type": "code",
   "execution_count": 8,
   "metadata": {},
   "outputs": [
    {
     "name": "stdout",
     "output_type": "stream",
     "text": [
      "Enter ID : 45\n",
      "Enter Name : avantika\n",
      "Enter marks : 45\n"
     ]
    }
   ],
   "source": [
    "mydb = sq.connect('myschool.db')\n",
    "mycur = mydb.cursor()\n",
    "myid = int(input(\"Enter ID : \"))\n",
    "myname = input(\"Enter Name : \")\n",
    "mymarks = float(input(\"Enter marks : \"))\n",
    "\n",
    "mydb.commit()\n",
    "mydb.close()"
   ]
  },
  {
   "cell_type": "code",
   "execution_count": 9,
   "metadata": {},
   "outputs": [],
   "source": [
    "def insertdata(myid, myname, mymarks):\n",
    "    db = sq.connect('myschool.db')\n",
    "    cur = db.cursor()\n",
    "    cur.execute('''create table mynewtab15(Roll_no integer primary key, Name text, Marks integer);''')\n",
    "    q = '''insert into mynewtab15 values(4,\"savani\",90);'''\n",
    "    data = (myid,myname,mymarks)\n",
    "    #cur.execute(q,data)\n",
    "    db.commit()\n",
    "    db.close()\n",
    "    \n",
    "insertdata(10,'sammy',45)"
   ]
  },
  {
   "cell_type": "code",
   "execution_count": 10,
   "metadata": {},
   "outputs": [
    {
     "name": "stdout",
     "output_type": "stream",
     "text": [
      "updated successfully ..\n",
      "\n",
      "updated successfully ..\n",
      "\n"
     ]
    }
   ],
   "source": [
    "def update(myatt,myval,myid):\n",
    "    db=sq.connect('mydb.db')\n",
    "    cur=db.cursor()\n",
    "    \n",
    "    if(myatt=='Name'):\n",
    "        q='''update mynewtab15 set Name='savani' where ID= 4'''\n",
    "    elif(myatt== 'Division'):\n",
    "         q='''update mynewtab15 set Division=\"shruti\" '''\n",
    "            \n",
    "    data=(myval,myid)\n",
    "    #cur.execute(q,data)\n",
    "    print('updated successfully ..\\n')\n",
    "    db.close()\n",
    "    display()\n",
    "     \n",
    "update('Name','Thomas',7)    #Updatename       \n",
    "update('Division','c',7)     #UpdateDivision\n",
    "            \n",
    "        "
   ]
  },
  {
   "cell_type": "code",
   "execution_count": null,
   "metadata": {},
   "outputs": [],
   "source": []
  }
 ],
 "metadata": {
  "kernelspec": {
   "display_name": "Python 3",
   "language": "python",
   "name": "python3"
  },
  "language_info": {
   "codemirror_mode": {
    "name": "ipython",
    "version": 3
   },
   "file_extension": ".py",
   "mimetype": "text/x-python",
   "name": "python",
   "nbconvert_exporter": "python",
   "pygments_lexer": "ipython3",
   "version": "3.8.5"
  }
 },
 "nbformat": 4,
 "nbformat_minor": 4
}
