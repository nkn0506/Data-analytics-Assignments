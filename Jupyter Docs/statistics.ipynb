{
 "cells": [
  {
   "cell_type": "code",
   "execution_count": null,
   "metadata": {},
   "outputs": [],
   "source": [
    "#Name: Neha Kamalakar Nemade\n",
    "#Roll no: 22150\n",
    "#Batch: G-5"
   ]
  },
  {
   "cell_type": "code",
   "execution_count": 7,
   "metadata": {},
   "outputs": [
    {
     "name": "stdout",
     "output_type": "stream",
     "text": [
      "90\n",
      "[48 90 70]\n",
      "[90  4 88]\n"
     ]
    }
   ],
   "source": [
    "#Maximum element from array\n",
    "import numpy as np\n",
    "ptr=np.array([[30,90,70],\n",
    "             [2,3,4],\n",
    "             [48,88,38]])\n",
    "\n",
    "#return the maximum value from array\n",
    "print(np.amax(ptr))\n",
    "\n",
    "#return the maximum value from each column\n",
    "print(np.amax(ptr,axis=0)) \n",
    "\n",
    "#return the maximum value from each row\n",
    "print(np.amax(ptr,axis=1))"
   ]
  },
  {
   "cell_type": "code",
   "execution_count": 22,
   "metadata": {},
   "outputs": [
    {
     "name": "stdout",
     "output_type": "stream",
     "text": [
      "2\n",
      "[2 3 4]\n",
      "[30  2 38]\n"
     ]
    }
   ],
   "source": [
    "#Minimum element from array\n",
    "import numpy as np\n",
    "a=np.array([[30,90,70],\n",
    "             [2,3,4],\n",
    "             [48,88,38]])\n",
    "\n",
    "# Return the minimum value from the array\n",
    "print(np.amin(a))\n",
    "\n",
    "# Return the minimum value from the each column \n",
    "print(np.amin(a,axis=0))\n",
    "\n",
    "# Return the minimum value from the each row \n",
    "print(np.amin(a,axis=1))\n",
    "\n"
   ]
  },
  {
   "cell_type": "markdown",
   "metadata": {},
   "source": [
    "# Average and weighted average of array"
   ]
  },
  {
   "cell_type": "code",
   "execution_count": 21,
   "metadata": {},
   "outputs": [
    {
     "name": "stdout",
     "output_type": "stream",
     "text": [
      "Average =  41.44444444444444\n",
      "\n",
      "Weighted average =  [27.41666667 60.25       36.        ]\n",
      "\n",
      "Weighted average =  [65.          3.08333333 57.58333333]\n"
     ]
    }
   ],
   "source": [
    "import numpy as np\n",
    "a=np.array([[30,90,70],\n",
    "             [2,3,4],\n",
    "             [48,88,38]])\n",
    "print(\"Average = \",np.average(a))\n",
    "wt=[7,8,9]\n",
    "print(\"\\nWeighted average = \",np.average(a,weights=wt,axis=0))\n",
    "print(\"\\nWeighted average = \",np.average(a,weights=wt,axis=1))"
   ]
  },
  {
   "cell_type": "markdown",
   "metadata": {},
   "source": [
    "# mean of rows and columns"
   ]
  },
  {
   "cell_type": "code",
   "execution_count": 5,
   "metadata": {},
   "outputs": [
    {
     "name": "stdout",
     "output_type": "stream",
     "text": [
      "Mean of the array =  41.44444444444444\n",
      "\n",
      "Mean of the columns =  [26.66666667 60.33333333 37.33333333]\n",
      "\n",
      "Mean of the rows =  [63.33333333  3.         58.        ]\n"
     ]
    }
   ],
   "source": [
    "import numpy as np\n",
    "a=np.array([[30,90,70],\n",
    "             [2,3,4],\n",
    "             [48,88,38]])\n",
    "print(\"Mean of the array = \",np.mean(a))\n",
    "print(\"\\nMean of the columns = \",np.mean(a,axis=0))\n",
    "print(\"\\nMean of the rows = \",np.mean(a,axis=1))\n",
    "             "
   ]
  },
  {
   "cell_type": "markdown",
   "metadata": {},
   "source": [
    "# Median of sorted array"
   ]
  },
  {
   "cell_type": "code",
   "execution_count": 6,
   "metadata": {},
   "outputs": [
    {
     "name": "stdout",
     "output_type": "stream",
     "text": [
      "Median of the array =  38.0\n",
      "\n",
      "Median of the columns =  [30. 88. 38.]\n",
      "\n",
      "Median of the rows =  [70.  3. 48.]\n"
     ]
    }
   ],
   "source": [
    "import numpy as np\n",
    "a=np.array([[30,90,70],\n",
    "             [2,3,4],\n",
    "             [48,88,38]])\n",
    "print(\"Median of the array = \",np.median(a))\n",
    "print(\"\\nMedian of the columns = \",np.median(a,axis=0))\n",
    "print(\"\\nMedian of the rows = \",np.median(a,axis=1))"
   ]
  },
  {
   "cell_type": "markdown",
   "metadata": {},
   "source": [
    "# Variance and standard deviation of array"
   ]
  },
  {
   "cell_type": "code",
   "execution_count": 8,
   "metadata": {},
   "outputs": [
    {
     "name": "stdout",
     "output_type": "stream",
     "text": [
      "Variance is:  1106.9135802469136\n",
      "\n",
      "Standard deviation is:  33.270310792761066\n"
     ]
    }
   ],
   "source": [
    "import numpy as np\n",
    "a=np.array([[30,90,70],\n",
    "             [2,3,4],\n",
    "             [48,88,38]])\n",
    "print(\"Variance is: \",np.var(a))\n",
    "print(\"\\nStandard deviation is: \",np.std(a))"
   ]
  },
  {
   "cell_type": "markdown",
   "metadata": {},
   "source": [
    "# Covariance in two data sets"
   ]
  },
  {
   "cell_type": "code",
   "execution_count": 12,
   "metadata": {},
   "outputs": [
    {
     "name": "stdout",
     "output_type": "stream",
     "text": [
      "[[10. 10.]\n",
      " [10. 10.]]\n",
      "\n",
      "[[ 10.  10.   0.]\n",
      " [ 10.  10.   0.]\n",
      " [  0.   0. 250.]]\n"
     ]
    }
   ],
   "source": [
    "import numpy as np\n",
    "ds1=np.array([1,3,5,7,9])\n",
    "ds2=np.array([2,4,6,8,10])\n",
    "\n",
    "c1=np.cov(ds1,ds2)\n",
    "print(c1)\n",
    "\n",
    "ds3=([[1,3,5,7,9],[2,4,6,8,10],[20,30,40,50,10]])\n",
    "c2=np.cov(ds3)\n",
    "print()\n",
    "print(c2)"
   ]
  },
  {
   "cell_type": "markdown",
   "metadata": {},
   "source": [
    "# Plot the covariance"
   ]
  },
  {
   "cell_type": "code",
   "execution_count": 16,
   "metadata": {},
   "outputs": [
    {
     "name": "stdout",
     "output_type": "stream",
     "text": [
      "\n",
      "c = \n"
     ]
    },
    {
     "data": {
      "image/png": "[encoded data removed]",
      "text/plain": [
       "<Figure size 432x288 with 1 Axes>"
      ]
     },
     "metadata": {
      "needs_background": "light"
     },
     "output_type": "display_data"
    },
    {
     "name": "stdout",
     "output_type": "stream",
     "text": [
      "\n",
      "[[ 2.5   4.25 -1.  ]\n",
      " [ 4.25  8.7   1.25]\n",
      " [-1.    1.25 11.5 ]]\n"
     ]
    },
    {
     "data": {
      "image/png": "[encoded data removed]",
      "text/plain": [
       "<Figure size 432x288 with 1 Axes>"
      ]
     },
     "metadata": {
      "needs_background": "light"
     },
     "output_type": "display_data"
    }
   ],
   "source": [
    "import matplotlib.pyplot as plt\n",
    "a=np.array([5,6,4,3,2])\n",
    "b=np.array([4,9,4,3,1])\n",
    "c=np.cov(a,b)\n",
    "print(\"\\nc = \")\n",
    "plt.plot(c)\n",
    "plt.show()\n",
    "\n",
    "print()\n",
    "a=np.array([[5,6,4,3,2],[4,9,4,3,1],[1,8,4,3,9]])\n",
    "c1=np.cov(a)\n",
    "print(c1)\n",
    "plt.plot(c1)\n",
    "plt.show()"
   ]
  },
  {
   "cell_type": "code",
   "execution_count": 18,
   "metadata": {},
   "outputs": [
    {
     "name": "stdout",
     "output_type": "stream",
     "text": [
      "\n",
      "[[ 1.         -0.23265125]\n",
      " [-0.23265125  1.        ]]\n",
      "\n",
      "[[ 1.          0.91129565 -0.18650096]\n",
      " [ 0.91129565  1.          0.12496876]\n",
      " [-0.18650096  0.12496876  1.        ]]\n"
     ]
    }
   ],
   "source": [
    "#Correlation betwee two sets\n",
    "import numpy as np\n",
    "a=np.array([50,6,40,3,20])\n",
    "b=np.array([4,9,4,3,1])\n",
    "print()\n",
    "c=np.corrcoef(a,b)\n",
    "print(c)\n",
    "\n",
    "\n",
    "print()\n",
    "a=np.array([[5,6,4,3,2],[4,9,4,3,1],[1,8,4,3,9]])\n",
    "c=np.corrcoef(a)\n",
    "print(c)\n"
   ]
  },
  {
   "cell_type": "code",
   "execution_count": 19,
   "metadata": {},
   "outputs": [
    {
     "name": "stdout",
     "output_type": "stream",
     "text": [
      "[[ 1.          0.91129565 -0.18650096]\n",
      " [ 0.91129565  1.          0.12496876]\n",
      " [-0.18650096  0.12496876  1.        ]]\n"
     ]
    },
    {
     "data": {
      "image/png": "[encoded data removed]",
      "text/plain": [
       "<Figure size 432x288 with 1 Axes>"
      ]
     },
     "metadata": {
      "needs_background": "light"
     },
     "output_type": "display_data"
    }
   ],
   "source": [
    "#Plot the Correlation\n",
    "import matplotlib.pyplot as plt\n",
    "import numpy as np\n",
    "a=np.array([[5,6,4,3,2],[4,9,4,3,1],[1,8,4,3,9]])\n",
    "c=np.corrcoef(a)\n",
    "print(c)\n",
    "plt.plot(c)\n",
    "plt.show()\n"
   ]
  }
 ],
 "metadata": {
  "kernelspec": {
   "display_name": "Python 3",
   "language": "python",
   "name": "python3"
  },
  "language_info": {
   "codemirror_mode": {
    "name": "ipython",
    "version": 3
   },
   "file_extension": ".py",
   "mimetype": "text/x-python",
   "name": "python",
   "nbconvert_exporter": "python",
   "pygments_lexer": "ipython3",
   "version": "3.8.5"
  }
 },
 "nbformat": 4,
 "nbformat_minor": 4
}
