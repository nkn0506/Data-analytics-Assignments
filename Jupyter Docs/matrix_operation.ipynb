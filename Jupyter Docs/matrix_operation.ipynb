{
 "cells": [
  {
   "cell_type": "code",
   "execution_count": 2,
   "metadata": {},
   "outputs": [
    {
     "name": "stdout",
     "output_type": "stream",
     "text": [
      "m1=\n",
      " [[3 6]\n",
      " [7 2]\n",
      " [1 9]]\n"
     ]
    }
   ],
   "source": [
    "import numpy as num\n",
    "m1=num.matrix('3,6;7,2;1,9')\n",
    "print(\"m1=\\n\",m1)\n"
   ]
  },
  {
   "cell_type": "code",
   "execution_count": 3,
   "metadata": {},
   "outputs": [
    {
     "name": "stdout",
     "output_type": "stream",
     "text": [
      "m1=\n",
      " [[3 6]\n",
      " [7 2]\n",
      " [1 9]]\n",
      "sum_ele= 28\n"
     ]
    }
   ],
   "source": [
    "import numpy as num\n",
    "m1=num.matrix('3,6;7,2;1,9')\n",
    "print(\"m1=\\n\",m1)\n",
    "sum_ele=num.sum(m1)\n",
    "print(\"sum_ele=\",sum_ele)"
   ]
  },
  {
   "cell_type": "code",
   "execution_count": 4,
   "metadata": {},
   "outputs": [
    {
     "name": "stdout",
     "output_type": "stream",
     "text": [
      "m1=\n",
      " [[3 6]\n",
      " [7 2]\n",
      " [1 9]]\n",
      "sum_ele_clm= [[11 17]]\n"
     ]
    }
   ],
   "source": [
    "import numpy as num\n",
    "m1=num.matrix('3,6;7,2;1,9')\n",
    "print(\"m1=\\n\",m1)\n",
    "sum_ele_clm=num.sum(m1,axis=0)\n",
    "print(\"sum_ele_clm=\",sum_ele_clm)"
   ]
  },
  {
   "cell_type": "code",
   "execution_count": 5,
   "metadata": {},
   "outputs": [
    {
     "name": "stdout",
     "output_type": "stream",
     "text": [
      "m1=\n",
      " [[3 6]\n",
      " [7 2]\n",
      " [1 9]]\n",
      "sum_ele_clm= [[ 9]\n",
      " [ 9]\n",
      " [10]]\n"
     ]
    }
   ],
   "source": [
    "import numpy as num\n",
    "m1=num.matrix('3,6;7,2;1,9')\n",
    "print(\"m1=\\n\",m1)\n",
    "sum_ele_clm=num.sum(m1,axis=1)\n",
    "print(\"sum_ele_clm=\",sum_ele_clm)"
   ]
  },
  {
   "cell_type": "code",
   "execution_count": 6,
   "metadata": {},
   "outputs": [
    {
     "name": "stdout",
     "output_type": "stream",
     "text": [
      "m1=\n",
      " [[5 3 6]\n",
      " [1 8 4]\n",
      " [2 5 9]]\n",
      "m2=\n",
      " [[1 2 3]\n",
      " [4 5 6]\n",
      " [7 8 9]]\n",
      "m3=n [[ 6  5  9]\n",
      " [ 5 13 10]\n",
      " [ 9 13 18]]\n"
     ]
    }
   ],
   "source": [
    "import numpy as num\n",
    "m1=num.matrix('5,3,6;1,8,4;2,5,9')\n",
    "print(\"m1=\\n\",m1)\n",
    "m2=num.matrix('1,2,3;4,5,6;7,8,9')\n",
    "print(\"m2=\\n\",m2)\n",
    "m3=m1+m2;\n",
    "print(\"m3=n\",m3)"
   ]
  },
  {
   "cell_type": "code",
   "execution_count": 7,
   "metadata": {},
   "outputs": [
    {
     "name": "stdout",
     "output_type": "stream",
     "text": [
      "m1=\n",
      " [[5 3 6]\n",
      " [1 8 4]\n",
      " [2 5 9]]\n",
      "m2=\n",
      " [[1 2 3]\n",
      " [4 5 6]\n",
      " [7 8 9]]\n",
      "m3=n [[ 59  73  87]\n",
      " [ 61  74  87]\n",
      " [ 85 101 117]]\n"
     ]
    }
   ],
   "source": [
    "import numpy as num\n",
    "m1=num.matrix('5,3,6;1,8,4;2,5,9')\n",
    "print(\"m1=\\n\",m1)\n",
    "m2=num.matrix('1,2,3;4,5,6;7,8,9')\n",
    "print(\"m2=\\n\",m2)\n",
    "m3=m1*m2;\n",
    "print(\"m3=n\",m3)"
   ]
  },
  {
   "cell_type": "markdown",
   "metadata": {},
   "source": [
    "# tranpose"
   ]
  },
  {
   "cell_type": "code",
   "execution_count": 8,
   "metadata": {},
   "outputs": [
    {
     "name": "stdout",
     "output_type": "stream",
     "text": [
      "m1 =\n",
      " [[3 4 4]\n",
      " [2 5 6]\n",
      " [1 7 8]]\n",
      "m2 =\n",
      " [[3 2 1]\n",
      " [4 5 7]\n",
      " [4 6 8]]\n"
     ]
    }
   ],
   "source": [
    "import numpy as np\n",
    "m1=np.matrix('3,4,4;2,5,6;1,7,8')\n",
    "print(\"m1 =\\n\",m1)\n",
    "m2=np.transpose(m1)\n",
    "print(\"m2 =\\n\",m2)"
   ]
  },
  {
   "cell_type": "code",
   "execution_count": 9,
   "metadata": {},
   "outputs": [
    {
     "name": "stdout",
     "output_type": "stream",
     "text": [
      "m1 =\n",
      " [[3 4 4]\n",
      " [2 5 6]\n",
      " [1 7 8]]\n",
      "m2 =\n",
      " [[3 2 1]\n",
      " [4 5 7]\n",
      " [4 6 8]]\n"
     ]
    }
   ],
   "source": [
    "import numpy as np\n",
    "m1=np.matrix('3,4,4;2,5,6;1,7,8')\n",
    "print(\"m1 =\\n\",m1)\n",
    "m2=m1.T\n",
    "print(\"m2 =\\n\",m2)"
   ]
  },
  {
   "cell_type": "markdown",
   "metadata": {},
   "source": [
    "# determinant "
   ]
  },
  {
   "cell_type": "code",
   "execution_count": 10,
   "metadata": {},
   "outputs": [
    {
     "name": "stdout",
     "output_type": "stream",
     "text": [
      "m1 =\n",
      " [[3 4 4]\n",
      " [2 5 6]\n",
      " [1 7 8]]\n",
      "determinant is = -10.000000000000002\n"
     ]
    }
   ],
   "source": [
    "import numpy as np\n",
    "m1=np.matrix('3,4,4;2,5,6;1,7,8')\n",
    "print(\"m1 =\\n\",m1)\n",
    "m=np.linalg.det(m1)\n",
    "print(\"determinant is =\",m)"
   ]
  },
  {
   "cell_type": "markdown",
   "metadata": {},
   "source": [
    "# identity matrix"
   ]
  },
  {
   "cell_type": "code",
   "execution_count": 1,
   "metadata": {},
   "outputs": [
    {
     "name": "stdout",
     "output_type": "stream",
     "text": [
      "m1 =\n",
      " [[1. 0. 0.]\n",
      " [0. 1. 0.]\n",
      " [0. 0. 1.]]\n",
      "determinant is = 1.0\n"
     ]
    }
   ],
   "source": [
    "import numpy as np\n",
    "m1=np.identity(3)\n",
    "print(\"m1 =\\n\",m1)\n",
    "m=np.linalg.det(m1)\n",
    "print(\"determinant is =\",m)"
   ]
  },
  {
   "cell_type": "code",
   "execution_count": 10,
   "metadata": {},
   "outputs": [
    {
     "name": "stdout",
     "output_type": "stream",
     "text": [
      "m1 =\n",
      " [[5 3 6]\n",
      " [1 8 4]\n",
      " [2 5 9]]\n"
     ]
    },
    {
     "data": {
      "text/plain": [
       "matrix([[ 0.27225131,  0.01570681, -0.18848168],\n",
       "        [-0.0052356 ,  0.17277487, -0.07329843],\n",
       "        [-0.05759162, -0.09947644,  0.19371728]])"
      ]
     },
     "execution_count": 10,
     "metadata": {},
     "output_type": "execute_result"
    }
   ],
   "source": [
    "import numpy as np\n",
    "m1=np.matrix('5,3,6;1,8,4;2,5,9')\n",
    "print(\"m1 =\\n\",m1)\n",
    "inverse = np.linalg.inv(m1)\n",
    "inverse\n",
    "# print(inverse)"
   ]
  },
  {
   "cell_type": "code",
   "execution_count": 11,
   "metadata": {},
   "outputs": [
    {
     "name": "stdout",
     "output_type": "stream",
     "text": [
      "m1 =\n",
      " [[3 4 4]\n",
      " [2 5 6]\n",
      " [1 7 8]]\n",
      "m is =\n",
      " (array([14.18831112,  2.14089896, -0.32921008]), matrix([[-0.44882124, -0.8958623 ,  0.17124127],\n",
      "        [-0.55503011, -0.20289422, -0.76427014],\n",
      "        [-0.70035781,  0.39530328,  0.6217456 ]]))\n",
      "eigen values: \n",
      " [14.18831112  2.14089896 -0.32921008]\n",
      "eigen vector: \n",
      " [[-0.44882124 -0.8958623   0.17124127]\n",
      " [-0.55503011 -0.20289422 -0.76427014]\n",
      " [-0.70035781  0.39530328  0.6217456 ]]\n"
     ]
    }
   ],
   "source": [
    "import numpy as np\n",
    "m1=np.matrix('3,4,4;2,5,6;1,7,8')\n",
    "print(\"m1 =\\n\",m1)\n",
    "m=np.linalg.eig(m1)\n",
    "print(\"m is =\\n\",m)\n",
    "print(\"eigen values: \\n\",m[0])\n",
    "print(\"eigen vector: \\n\",m[1])"
   ]
  },
  {
   "cell_type": "code",
   "execution_count": 12,
   "metadata": {},
   "outputs": [
    {
     "name": "stdout",
     "output_type": "stream",
     "text": [
      "m1 =\n",
      " [[5 3 6]\n",
      " [1 8 4]\n",
      " [2 5 9]]\n",
      "eigen_values =  [14.49017801  2.79678051  4.71304148]\n",
      "eigen_vectors =  [[-0.57094364 -0.90708542  0.82596536]\n",
      " [-0.49270834 -0.13275813 -0.51901711]\n",
      " [-0.6567053   0.39946378  0.22000559]]\n"
     ]
    }
   ],
   "source": [
    "import numpy as np\n",
    "m1=np.matrix('5,3,6;1,8,4;2,5,9')\n",
    "print(\"m1 =\\n\",m1)\n",
    "m2 = np.linalg.eig(m1)\n",
    "#at index 0 eigen values are stored and at index 1 eigen vectors are stored\n",
    "print('eigen_values = ',m2[0])\n",
    "print('eigen_vectors = ',m2[1])"
   ]
  }
 ],
 "metadata": {
  "kernelspec": {
   "display_name": "Python 3",
   "language": "python",
   "name": "python3"
  },
  "language_info": {
   "codemirror_mode": {
    "name": "ipython",
    "version": 3
   },
   "file_extension": ".py",
   "mimetype": "text/x-python",
   "name": "python",
   "nbconvert_exporter": "python",
   "pygments_lexer": "ipython3",
   "version": "3.8.5"
  }
 },
 "nbformat": 4,
 "nbformat_minor": 4
}
