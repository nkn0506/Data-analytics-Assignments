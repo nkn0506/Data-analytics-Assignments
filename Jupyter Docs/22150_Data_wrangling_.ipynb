{
 "cells": [
  {
   "cell_type": "code",
   "execution_count": null,
   "metadata": {},
   "outputs": [],
   "source": [
    "# Pre-processing Data in Python \n",
    "# Dealing with Missing Values in Python\n",
    "# Data Formatting in Python \n",
    "# Data Normalization in Python \n",
    "# Binning in Python \n",
    "# Turning categorical variables into quantitative variables in Python\n"
   ]
  },
  {
   "cell_type": "code",
   "execution_count": 3,
   "metadata": {},
   "outputs": [
    {
     "data": {
      "text/html": [
       "<div>\n",
       "<style scoped>\n",
       "    .dataframe tbody tr th:only-of-type {\n",
       "        vertical-align: middle;\n",
       "    }\n",
       "\n",
       "    .dataframe tbody tr th {\n",
       "        vertical-align: top;\n",
       "    }\n",
       "\n",
       "    .dataframe thead th {\n",
       "        text-align: right;\n",
       "    }\n",
       "</style>\n",
       "<table border=\"1\" class=\"dataframe\">\n",
       "  <thead>\n",
       "    <tr style=\"text-align: right;\">\n",
       "      <th></th>\n",
       "      <th>Name</th>\n",
       "      <th>Age</th>\n",
       "      <th>Gender</th>\n",
       "      <th>Marks</th>\n",
       "    </tr>\n",
       "  </thead>\n",
       "  <tbody>\n",
       "    <tr>\n",
       "      <th>0</th>\n",
       "      <td>Gayatri</td>\n",
       "      <td>17</td>\n",
       "      <td>M</td>\n",
       "      <td>90</td>\n",
       "    </tr>\n",
       "    <tr>\n",
       "      <th>1</th>\n",
       "      <td>Samira</td>\n",
       "      <td>17</td>\n",
       "      <td>F</td>\n",
       "      <td>76</td>\n",
       "    </tr>\n",
       "    <tr>\n",
       "      <th>2</th>\n",
       "      <td>Prachiti</td>\n",
       "      <td>18</td>\n",
       "      <td>M</td>\n",
       "      <td>NaN</td>\n",
       "    </tr>\n",
       "    <tr>\n",
       "      <th>3</th>\n",
       "      <td>Anuja</td>\n",
       "      <td>17</td>\n",
       "      <td>M</td>\n",
       "      <td>74</td>\n",
       "    </tr>\n",
       "    <tr>\n",
       "      <th>4</th>\n",
       "      <td>Prasad</td>\n",
       "      <td>18</td>\n",
       "      <td>M</td>\n",
       "      <td>65</td>\n",
       "    </tr>\n",
       "    <tr>\n",
       "      <th>5</th>\n",
       "      <td>Poonam</td>\n",
       "      <td>17</td>\n",
       "      <td>F</td>\n",
       "      <td>NaN</td>\n",
       "    </tr>\n",
       "    <tr>\n",
       "      <th>6</th>\n",
       "      <td>Riya</td>\n",
       "      <td>17</td>\n",
       "      <td>F</td>\n",
       "      <td>71</td>\n",
       "    </tr>\n",
       "  </tbody>\n",
       "</table>\n",
       "</div>"
      ],
      "text/plain": [
       "       Name  Age Gender Marks\n",
       "0   Gayatri   17      M    90\n",
       "1    Samira   17      F    76\n",
       "2  Prachiti   18      M   NaN\n",
       "3     Anuja   17      M    74\n",
       "4    Prasad   18      M    65\n",
       "5    Poonam   17      F   NaN\n",
       "6      Riya   17      F    71"
      ]
     },
     "execution_count": 3,
     "metadata": {},
     "output_type": "execute_result"
    }
   ],
   "source": [
    "#Data exploration, here we assign the data, and then we visualize the data in a tabular format.\n",
    "\n",
    "import pandas as pd\n",
    "# Assign data\n",
    "data = {'Name': ['Gayatri', 'Samira', 'Prachiti', #string is to list columns bhejte dictionary \n",
    "                 'Anuja', 'Prasad', 'Poonam', 'Riya'],\n",
    "        'Age': [17, 17, 18, 17, 18, 17, 17],\n",
    "        'Gender': ['M', 'F', 'M', 'M', 'M', 'F', 'F'],\n",
    "        'Marks': [90, 76, 'NaN', 74, 65, 'NaN', 71]}\n",
    "  \n",
    "# Convert into DataFrame\n",
    "df = pd.DataFrame(data)\n",
    "  \n",
    "# Display data\n",
    "df"
   ]
  },
  {
   "cell_type": "code",
   "execution_count": 4,
   "metadata": {},
   "outputs": [
    {
     "data": {
      "text/html": [
       "<div>\n",
       "<style scoped>\n",
       "    .dataframe tbody tr th:only-of-type {\n",
       "        vertical-align: middle;\n",
       "    }\n",
       "\n",
       "    .dataframe tbody tr th {\n",
       "        vertical-align: top;\n",
       "    }\n",
       "\n",
       "    .dataframe thead th {\n",
       "        text-align: right;\n",
       "    }\n",
       "</style>\n",
       "<table border=\"1\" class=\"dataframe\">\n",
       "  <thead>\n",
       "    <tr style=\"text-align: right;\">\n",
       "      <th></th>\n",
       "      <th>Name</th>\n",
       "      <th>Age</th>\n",
       "      <th>Gender</th>\n",
       "      <th>Marks</th>\n",
       "    </tr>\n",
       "  </thead>\n",
       "  <tbody>\n",
       "    <tr>\n",
       "      <th>0</th>\n",
       "      <td>Gayatri</td>\n",
       "      <td>17</td>\n",
       "      <td>M</td>\n",
       "      <td>90.0</td>\n",
       "    </tr>\n",
       "    <tr>\n",
       "      <th>1</th>\n",
       "      <td>Samira</td>\n",
       "      <td>17</td>\n",
       "      <td>F</td>\n",
       "      <td>76.0</td>\n",
       "    </tr>\n",
       "    <tr>\n",
       "      <th>2</th>\n",
       "      <td>Prachiti</td>\n",
       "      <td>18</td>\n",
       "      <td>M</td>\n",
       "      <td>75.2</td>\n",
       "    </tr>\n",
       "    <tr>\n",
       "      <th>3</th>\n",
       "      <td>Anuja</td>\n",
       "      <td>17</td>\n",
       "      <td>M</td>\n",
       "      <td>74.0</td>\n",
       "    </tr>\n",
       "    <tr>\n",
       "      <th>4</th>\n",
       "      <td>Prasad</td>\n",
       "      <td>18</td>\n",
       "      <td>M</td>\n",
       "      <td>65.0</td>\n",
       "    </tr>\n",
       "    <tr>\n",
       "      <th>5</th>\n",
       "      <td>Poonam</td>\n",
       "      <td>17</td>\n",
       "      <td>F</td>\n",
       "      <td>75.2</td>\n",
       "    </tr>\n",
       "    <tr>\n",
       "      <th>6</th>\n",
       "      <td>Riya</td>\n",
       "      <td>17</td>\n",
       "      <td>F</td>\n",
       "      <td>71.0</td>\n",
       "    </tr>\n",
       "  </tbody>\n",
       "</table>\n",
       "</div>"
      ],
      "text/plain": [
       "       Name  Age Gender  Marks\n",
       "0   Gayatri   17      M   90.0\n",
       "1    Samira   17      F   76.0\n",
       "2  Prachiti   18      M   75.2\n",
       "3     Anuja   17      M   74.0\n",
       "4    Prasad   18      M   65.0\n",
       "5    Poonam   17      F   75.2\n",
       "6      Riya   17      F   71.0"
      ]
     },
     "execution_count": 4,
     "metadata": {},
     "output_type": "execute_result"
    }
   ],
   "source": [
    "#Dealing with missing values\n",
    "\n",
    "# Compute average\n",
    "\n",
    "c = avg = 0\n",
    "for ele in df['Marks']:\n",
    "    if str(ele).isnumeric():\n",
    "        c += 1\n",
    "        avg += ele\n",
    "avg /= c\n",
    "  \n",
    "# Replace missing values\n",
    "df = df.replace(to_replace=\"NaN\",  #NaN - Not a number\n",
    "                value=avg)\n",
    "  \n",
    "# Display data  #in the fom of list\n",
    "df   "
   ]
  },
  {
   "cell_type": "code",
   "execution_count": 5,
   "metadata": {},
   "outputs": [
    {
     "data": {
      "text/html": [
       "<div>\n",
       "<style scoped>\n",
       "    .dataframe tbody tr th:only-of-type {\n",
       "        vertical-align: middle;\n",
       "    }\n",
       "\n",
       "    .dataframe tbody tr th {\n",
       "        vertical-align: top;\n",
       "    }\n",
       "\n",
       "    .dataframe thead th {\n",
       "        text-align: right;\n",
       "    }\n",
       "</style>\n",
       "<table border=\"1\" class=\"dataframe\">\n",
       "  <thead>\n",
       "    <tr style=\"text-align: right;\">\n",
       "      <th></th>\n",
       "      <th>Name</th>\n",
       "      <th>Age</th>\n",
       "      <th>Gender</th>\n",
       "      <th>Marks</th>\n",
       "    </tr>\n",
       "  </thead>\n",
       "  <tbody>\n",
       "    <tr>\n",
       "      <th>0</th>\n",
       "      <td>Gayatri</td>\n",
       "      <td>17</td>\n",
       "      <td>0.0</td>\n",
       "      <td>90.0</td>\n",
       "    </tr>\n",
       "    <tr>\n",
       "      <th>1</th>\n",
       "      <td>Samira</td>\n",
       "      <td>17</td>\n",
       "      <td>1.0</td>\n",
       "      <td>76.0</td>\n",
       "    </tr>\n",
       "    <tr>\n",
       "      <th>2</th>\n",
       "      <td>Prachiti</td>\n",
       "      <td>18</td>\n",
       "      <td>0.0</td>\n",
       "      <td>75.2</td>\n",
       "    </tr>\n",
       "    <tr>\n",
       "      <th>3</th>\n",
       "      <td>Anuja</td>\n",
       "      <td>17</td>\n",
       "      <td>0.0</td>\n",
       "      <td>74.0</td>\n",
       "    </tr>\n",
       "    <tr>\n",
       "      <th>4</th>\n",
       "      <td>Prasad</td>\n",
       "      <td>18</td>\n",
       "      <td>0.0</td>\n",
       "      <td>65.0</td>\n",
       "    </tr>\n",
       "    <tr>\n",
       "      <th>5</th>\n",
       "      <td>Poonam</td>\n",
       "      <td>17</td>\n",
       "      <td>1.0</td>\n",
       "      <td>75.2</td>\n",
       "    </tr>\n",
       "    <tr>\n",
       "      <th>6</th>\n",
       "      <td>Riya</td>\n",
       "      <td>17</td>\n",
       "      <td>1.0</td>\n",
       "      <td>71.0</td>\n",
       "    </tr>\n",
       "  </tbody>\n",
       "</table>\n",
       "</div>"
      ],
      "text/plain": [
       "       Name  Age  Gender  Marks\n",
       "0   Gayatri   17     0.0   90.0\n",
       "1    Samira   17     1.0   76.0\n",
       "2  Prachiti   18     0.0   75.2\n",
       "3     Anuja   17     0.0   74.0\n",
       "4    Prasad   18     0.0   65.0\n",
       "5    Poonam   17     1.0   75.2\n",
       "6      Riya   17     1.0   71.0"
      ]
     },
     "execution_count": 5,
     "metadata": {},
     "output_type": "execute_result"
    }
   ],
   "source": [
    "#Reshaping data, in the GENDER column, we can reshape the data by categorizing them into different numbers.\n",
    "\n",
    "# Categorize gender\n",
    "df['Gender'] = df['Gender'].map({'M': 0,'F': 1, }).astype(float)\n",
    "\n",
    "# Display data\n",
    "df\n"
   ]
  },
  {
   "cell_type": "code",
   "execution_count": 6,
   "metadata": {},
   "outputs": [
    {
     "data": {
      "text/html": [
       "<div>\n",
       "<style scoped>\n",
       "    .dataframe tbody tr th:only-of-type {\n",
       "        vertical-align: middle;\n",
       "    }\n",
       "\n",
       "    .dataframe tbody tr th {\n",
       "        vertical-align: top;\n",
       "    }\n",
       "\n",
       "    .dataframe thead th {\n",
       "        text-align: right;\n",
       "    }\n",
       "</style>\n",
       "<table border=\"1\" class=\"dataframe\">\n",
       "  <thead>\n",
       "    <tr style=\"text-align: right;\">\n",
       "      <th></th>\n",
       "      <th>Name</th>\n",
       "      <th>Gender</th>\n",
       "      <th>Marks</th>\n",
       "    </tr>\n",
       "  </thead>\n",
       "  <tbody>\n",
       "    <tr>\n",
       "      <th>0</th>\n",
       "      <td>Gayatri</td>\n",
       "      <td>0.0</td>\n",
       "      <td>90.0</td>\n",
       "    </tr>\n",
       "    <tr>\n",
       "      <th>1</th>\n",
       "      <td>Samira</td>\n",
       "      <td>1.0</td>\n",
       "      <td>76.0</td>\n",
       "    </tr>\n",
       "    <tr>\n",
       "      <th>2</th>\n",
       "      <td>Prachiti</td>\n",
       "      <td>0.0</td>\n",
       "      <td>75.2</td>\n",
       "    </tr>\n",
       "    <tr>\n",
       "      <th>5</th>\n",
       "      <td>Poonam</td>\n",
       "      <td>1.0</td>\n",
       "      <td>75.2</td>\n",
       "    </tr>\n",
       "  </tbody>\n",
       "</table>\n",
       "</div>"
      ],
      "text/plain": [
       "       Name  Gender  Marks\n",
       "0   Gayatri     0.0   90.0\n",
       "1    Samira     1.0   76.0\n",
       "2  Prachiti     0.0   75.2\n",
       "5    Poonam     1.0   75.2"
      ]
     },
     "execution_count": 6,
     "metadata": {},
     "output_type": "execute_result"
    }
   ],
   "source": [
    "#Filtering data\n",
    "\n",
    "# Filter top scoring students\n",
    "df = df[df['Marks'] >= 75]\n",
    "\n",
    "# Remove age column\n",
    "df = df.drop(['Age'], axis=1) #axis=0 means row\n",
    "\n",
    "# Display data\n",
    "df\n"
   ]
  },
  {
   "cell_type": "code",
   "execution_count": 7,
   "metadata": {},
   "outputs": [
    {
     "name": "stdout",
     "output_type": "stream",
     "text": [
      "    ID     NAME BRANCH\n",
      "0  101  Jagroop    CSE\n",
      "1  102  Praveen    CSE\n",
      "2  103   Harjot    CSE\n",
      "3  104    Pooja    CSE\n",
      "4  105    Rahul    CSE\n",
      "5  106   Nikita    CSE\n",
      "6  107  Saurabh    CSE\n",
      "7  108    Ayush    CSE\n",
      "8  109    Dolly    CSE\n",
      "9  110    Mohit    CSE\n"
     ]
    }
   ],
   "source": [
    "#Wrangling Data Using Merge Operation\n",
    "\n",
    "#FIRST TYPE OF DATA:\n",
    "\n",
    "# import module\n",
    "import pandas as pd\n",
    "\n",
    "# creating DataFrame for Student Details\n",
    "details = pd.DataFrame({\n",
    "'ID': [101, 102, 103, 104, 105, 106,107, 108, 109, 110],\n",
    "'NAME': ['Jagroop', 'Praveen', 'Harjot','Pooja', 'Rahul', \n",
    "         'Nikita','Saurabh', 'Ayush', 'Dolly', \"Mohit\"],\n",
    "'BRANCH': ['CSE', 'CSE', 'CSE', 'CSE', 'CSE','CSE', 'CSE', 'CSE', 'CSE', 'CSE']})\n",
    "\n",
    "# printing details\n",
    "print(details)\n"
   ]
  },
  {
   "cell_type": "code",
   "execution_count": 8,
   "metadata": {},
   "outputs": [
    {
     "name": "stdout",
     "output_type": "stream",
     "text": [
      "    ID PENDING\n",
      "0  101    5000\n",
      "1  102     250\n",
      "2  103     NIL\n",
      "3  104    9000\n",
      "4  105   15000\n",
      "5  106     NIL\n",
      "6  107    4500\n",
      "7  108    1800\n",
      "8  109     250\n",
      "9  110     NIL\n"
     ]
    }
   ],
   "source": [
    "#SECOND TYPE OF DATA\n",
    "\n",
    "# Import module\n",
    "import pandas as pd\n",
    "\n",
    "# Creating Dataframe for Fees_Status\n",
    "fees_status = pd.DataFrame({'ID': [101, 102, 103, 104, 105,106, 107, 108, 109, 110],\n",
    "     'PENDING': ['5000', '250', 'NIL','9000', '15000', 'NIL','4500', '1800', '250', 'NIL']})\n",
    "\n",
    "# Printing fees_status\n",
    "print(fees_status)\n"
   ]
  },
  {
   "cell_type": "code",
   "execution_count": 9,
   "metadata": {},
   "outputs": [
    {
     "name": "stdout",
     "output_type": "stream",
     "text": [
      "    ID     NAME BRANCH PENDING\n",
      "0  101  Jagroop    CSE    5000\n",
      "1  102  Praveen    CSE     250\n",
      "2  103   Harjot    CSE     NIL\n",
      "3  104    Pooja    CSE    9000\n",
      "4  105    Rahul    CSE   15000\n",
      "5  106   Nikita    CSE     NIL\n",
      "6  107  Saurabh    CSE    4500\n",
      "7  108    Ayush    CSE    1800\n",
      "8  109    Dolly    CSE     250\n",
      "9  110    Mohit    CSE     NIL\n"
     ]
    }
   ],
   "source": [
    "#WRANGLING DATA USING MERGE OPERATION:\n",
    "\n",
    "# Import module\n",
    "import pandas as pd\n",
    "\n",
    "# Creating Dataframe\n",
    "details = pd.DataFrame({'ID': [101, 102, 103, 104, 105,106, 107, 108, 109, 110],\n",
    "'NAME': ['Jagroop', 'Praveen', 'Harjot','Pooja', 'Rahul', 'Nikita','Saurabh', 'Ayush', 'Dolly', \"Mohit\"],\n",
    "'BRANCH': ['CSE', 'CSE', 'CSE', 'CSE', 'CSE','CSE', 'CSE', 'CSE', 'CSE', 'CSE']})\n",
    "\n",
    "# Creating Dataframe\n",
    "fees_status = pd.DataFrame({'ID': [101, 102, 103, 104, 105,106, 107, 108, 109, 110],\n",
    "'PENDING': ['5000', '250', 'NIL','9000', '15000', 'NIL','4500', '1800', '250', 'NIL']})\n",
    "\n",
    "# Merging Dataframe\n",
    "print(pd.merge(details, fees_status, on='ID'))# jo common column hain wo on=\"ID\"\n"
   ]
  },
  {
   "cell_type": "code",
   "execution_count": 10,
   "metadata": {},
   "outputs": [
    {
     "name": "stdout",
     "output_type": "stream",
     "text": [
      "       Brand  Year  Sold\n",
      "0     Maruti  2010     6\n",
      "1     Maruti  2011     7\n",
      "2     Maruti  2009     9\n",
      "3     Maruti  2013     8\n",
      "4    Hyundai  2010     3\n",
      "5    Hyundai  2011     5\n",
      "6     Toyota  2011     2\n",
      "7   Mahindra  2010     8\n",
      "8   Mahindra  2013     7\n",
      "9       Ford  2010     2\n",
      "10    Toyota  2010     4\n",
      "11      Ford  2011     2\n"
     ]
    }
   ],
   "source": [
    "#CARS SELLING DATA\n",
    "\n",
    "# Import module\n",
    "import pandas as pd\n",
    "\n",
    "# Creating Data\n",
    "car_selling_data = {'Brand': ['Maruti', 'Maruti', 'Maruti','Maruti', 'Hyundai', 'Hyundai','Toyota', \n",
    "                              'Mahindra', 'Mahindra','Ford', 'Toyota', 'Ford'],\n",
    "'Year': [2010, 2011, 2009, 2013,2010, 2011, 2011, 2010,2013, 2010, 2010, 2011],\n",
    "'Sold': [6, 7, 9, 8, 3, 5, 2, 8, 7, 2, 4, 2]}\n",
    "\n",
    "# Creating Dataframe of car_selling_data\n",
    "df = pd.DataFrame(car_selling_data)\n",
    "\n",
    "# printing Dataframe\n",
    "print(df)\n"
   ]
  },
  {
   "cell_type": "code",
   "execution_count": 11,
   "metadata": {},
   "outputs": [
    {
     "name": "stdout",
     "output_type": "stream",
     "text": [
      "       Brand  Year  Sold\n",
      "0     Maruti  2010     6\n",
      "4    Hyundai  2010     3\n",
      "7   Mahindra  2010     8\n",
      "9       Ford  2010     2\n",
      "10    Toyota  2010     4\n"
     ]
    }
   ],
   "source": [
    "#DATA OF THE YEAR 2010:\n",
    "\n",
    "# Import mdoule\n",
    "import pandas as pd\n",
    "\n",
    "# Creating Data\n",
    "car_selling_data = {'Brand': ['Maruti', 'Maruti', 'Maruti','Maruti', 'Hyundai', 'Hyundai',\n",
    "\t\t\t\t\t\t\t'Toyota', 'Mahindra', 'Mahindra','Ford', 'Toyota', 'Ford'],\n",
    "'Year': [2010, 2011, 2009, 2013,2010, 2011, 2011, 2010,2013, 2010, 2010, 2011],\n",
    "'Sold': [6, 7, 9, 8, 3, 5,2, 8, 7, 2, 4, 2]}\n",
    "\n",
    "# Creating Dataframe for Provided Data\n",
    "df = pd.DataFrame(car_selling_data)\n",
    "\n",
    "# Group the data when year = 2010\n",
    "grouped = df.groupby('Year')\n",
    "print(grouped.get_group(2010))\n",
    "\n"
   ]
  },
  {
   "cell_type": "code",
   "execution_count": 12,
   "metadata": {},
   "outputs": [
    {
     "name": "stdout",
     "output_type": "stream",
     "text": [
      "        Name  Roll_no                 Email\n",
      "0       Amit       23        xxxx@gmail.com\n",
      "1    Praveen       54      xxxxxx@gmail.com\n",
      "2    Jagroop       29      xxxxxx@gmail.com\n",
      "3      Rahul       36          xx@gmail.com\n",
      "4     Vishal       59        xxxx@gmail.com\n",
      "5      Suraj       38       xxxxx@gmail.com\n",
      "6     Rishab       12       xxxxx@gmail.com\n",
      "7   Satyapal       45       xxxxx@gmail.com\n",
      "8       Amit       34       xxxxx@gmail.com\n",
      "9      Rahul       36      xxxxxx@gmail.com\n",
      "10   Praveen       54  xxxxxxxxxx@gmail.com\n",
      "11      Amit       23  xxxxxxxxxx@gmail.com\n"
     ]
    }
   ],
   "source": [
    "\n",
    "#DETAILS STUDENTS DATA WHO WANT TO PARTICIPATE IN THE EVENT:\n",
    "\n",
    "# Import module\n",
    "import pandas as pd\n",
    "student_data = {'Name': ['Amit', 'Praveen', 'Jagroop','Rahul', 'Vishal', 'Suraj','Rishab', 'Satyapal', 'Amit',\n",
    "\t\t\t\t\t\t'Rahul', 'Praveen', 'Amit'],\n",
    "\n",
    "'Roll_no': [23, 54, 29, 36, 59, 38,12, 45, 34, 36, 54, 23],\n",
    "\n",
    "'Email': ['xxxx@gmail.com', 'xxxxxx@gmail.com','xxxxxx@gmail.com', 'xx@gmail.com',\n",
    "\t\t\t\t\t\t'xxxx@gmail.com', 'xxxxx@gmail.com',\n",
    "\t\t\t\t\t\t'xxxxx@gmail.com', 'xxxxx@gmail.com',\n",
    "\t\t\t\t\t\t'xxxxx@gmail.com', 'xxxxxx@gmail.com',\n",
    "\t\t\t\t\t\t'xxxxxxxxxx@gmail.com', 'xxxxxxxxxx@gmail.com']}\n",
    "\n",
    "# Creating Dataframe of Data\n",
    "df = pd.DataFrame(student_data)\n",
    "\n",
    "# Printing Dataframe\n",
    "print(df)\n"
   ]
  },
  {
   "cell_type": "code",
   "execution_count": 13,
   "metadata": {},
   "outputs": [
    {
     "name": "stdout",
     "output_type": "stream",
     "text": [
      "       Name  Roll_no             Email\n",
      "0      Amit       23    xxxx@gmail.com\n",
      "1   Praveen       54  xxxxxx@gmail.com\n",
      "2   Jagroop       29  xxxxxx@gmail.com\n",
      "3     Rahul       36      xx@gmail.com\n",
      "4    Vishal       59    xxxx@gmail.com\n",
      "5     Suraj       38   xxxxx@gmail.com\n",
      "6    Rishab       12   xxxxx@gmail.com\n",
      "7  Satyapal       45   xxxxx@gmail.com\n",
      "8      Amit       34   xxxxx@gmail.com\n"
     ]
    }
   ],
   "source": [
    "\n",
    "#DATA WRANGLED BY REMOVING DUPLICATE ENTRIES:\n",
    "\n",
    "# import module\n",
    "import pandas as pd\n",
    "student_data = {'Name': ['Amit', 'Praveen', 'Jagroop','Rahul', 'Vishal', 'Suraj',\n",
    "\t\t\t\t\t\t'Rishab', 'Satyapal', 'Amit',\n",
    "\t\t\t\t\t\t'Rahul', 'Praveen', 'Amit'],\n",
    "\n",
    "'Roll_no': [23, 54, 29, 36, 59, 38,12, 45, 34, 36, 54, 23],\n",
    "'Email': ['xxxx@gmail.com', 'xxxxxx@gmail.com','xxxxxx@gmail.com', 'xx@gmail.com',\n",
    "\t\t'xxxx@gmail.com', 'xxxxx@gmail.com','xxxxx@gmail.com', 'xxxxx@gmail.com',\n",
    "        'xxxxx@gmail.com', 'xxxxxx@gmail.com','xxxxxxxxxx@gmail.com', 'xxxxxxxxxx@gmail.com']}\n",
    "df = pd.DataFrame(student_data)\n",
    "non_duplicate = df[~df.duplicated('Roll_no')]\n",
    "print(non_duplicate)\n"
   ]
  },
  {
   "cell_type": "code",
   "execution_count": 15,
   "metadata": {},
   "outputs": [],
   "source": [
    "#Binning method for data smoothing\n",
    "\n",
    "import numpy as np\n",
    "import math\n",
    "from sklearn.datasets import load_iris\n",
    "from sklearn import datasets, linear_model, metrics\n",
    "dataset = load_iris()\n",
    "a = dataset.data\n",
    "b = np.zeros(150)\n",
    "\n",
    "for i in range (150):\n",
    "    b[i]=a[i,1]\n",
    "\n",
    "b=np.sort(b) #sort the array\n",
    "bin1=np.zeros((30,5))\n",
    "bin2=np.zeros((30,5))\n",
    "bin3=np.zeros((30,5))\n",
    "\n"
   ]
  },
  {
   "cell_type": "code",
   "execution_count": 16,
   "metadata": {},
   "outputs": [
    {
     "name": "stdout",
     "output_type": "stream",
     "text": [
      "Bin Mean: \n",
      " [[2.18 2.18 2.18 2.18 2.18]\n",
      " [2.34 2.34 2.34 2.34 2.34]\n",
      " [2.48 2.48 2.48 2.48 2.48]\n",
      " [2.52 2.52 2.52 2.52 2.52]\n",
      " [2.62 2.62 2.62 2.62 2.62]\n",
      " [2.7  2.7  2.7  2.7  2.7 ]\n",
      " [2.74 2.74 2.74 2.74 2.74]\n",
      " [2.8  2.8  2.8  2.8  2.8 ]\n",
      " [2.8  2.8  2.8  2.8  2.8 ]\n",
      " [2.86 2.86 2.86 2.86 2.86]\n",
      " [2.9  2.9  2.9  2.9  2.9 ]\n",
      " [2.96 2.96 2.96 2.96 2.96]\n",
      " [3.   3.   3.   3.   3.  ]\n",
      " [3.   3.   3.   3.   3.  ]\n",
      " [3.   3.   3.   3.   3.  ]\n",
      " [3.   3.   3.   3.   3.  ]\n",
      " [3.04 3.04 3.04 3.04 3.04]\n",
      " [3.1  3.1  3.1  3.1  3.1 ]\n",
      " [3.12 3.12 3.12 3.12 3.12]\n",
      " [3.2  3.2  3.2  3.2  3.2 ]\n",
      " [3.2  3.2  3.2  3.2  3.2 ]\n",
      " [3.26 3.26 3.26 3.26 3.26]\n",
      " [3.34 3.34 3.34 3.34 3.34]\n",
      " [3.4  3.4  3.4  3.4  3.4 ]\n",
      " [3.4  3.4  3.4  3.4  3.4 ]\n",
      " [3.5  3.5  3.5  3.5  3.5 ]\n",
      " [3.58 3.58 3.58 3.58 3.58]\n",
      " [3.74 3.74 3.74 3.74 3.74]\n",
      " [3.82 3.82 3.82 3.82 3.82]\n",
      " [4.12 4.12 4.12 4.12 4.12]]\n"
     ]
    }
   ],
   "source": [
    "# Bin mean\n",
    "for i in range (0,150,5):\n",
    "\tk=int(i/5)\n",
    "\tmean=(b[i] + b[i+1] + b[i+2] + b[i+3] + b[i+4])/5\n",
    "\tfor j in range(5):\n",
    "\t\tbin1[k,j]=mean\n",
    "print(\"Bin Mean: \\n\",bin1)"
   ]
  },
  {
   "cell_type": "code",
   "execution_count": 17,
   "metadata": {},
   "outputs": [
    {
     "name": "stdout",
     "output_type": "stream",
     "text": [
      "Bin Boundaries: \n",
      " [[2.  2.3 2.3 2.3 2.3]\n",
      " [2.3 2.3 2.3 2.4 2.4]\n",
      " [2.4 2.5 2.5 2.5 2.5]\n",
      " [2.5 2.5 2.5 2.5 2.6]\n",
      " [2.6 2.6 2.6 2.6 2.7]\n",
      " [2.7 2.7 2.7 2.7 2.7]\n",
      " [2.7 2.7 2.7 2.8 2.8]\n",
      " [2.8 2.8 2.8 2.8 2.8]\n",
      " [2.8 2.8 2.8 2.8 2.8]\n",
      " [2.8 2.8 2.9 2.9 2.9]\n",
      " [2.9 2.9 2.9 2.9 2.9]\n",
      " [2.9 2.9 3.  3.  3. ]\n",
      " [3.  3.  3.  3.  3. ]\n",
      " [3.  3.  3.  3.  3. ]\n",
      " [3.  3.  3.  3.  3. ]\n",
      " [3.  3.  3.  3.  3. ]\n",
      " [3.  3.  3.  3.1 3.1]\n",
      " [3.1 3.1 3.1 3.1 3.1]\n",
      " [3.1 3.1 3.1 3.1 3.2]\n",
      " [3.2 3.2 3.2 3.2 3.2]\n",
      " [3.2 3.2 3.2 3.2 3.2]\n",
      " [3.2 3.2 3.3 3.3 3.3]\n",
      " [3.3 3.3 3.3 3.4 3.4]\n",
      " [3.4 3.4 3.4 3.4 3.4]\n",
      " [3.4 3.4 3.4 3.4 3.4]\n",
      " [3.5 3.5 3.5 3.5 3.5]\n",
      " [3.5 3.6 3.6 3.6 3.6]\n",
      " [3.7 3.7 3.7 3.8 3.8]\n",
      " [3.8 3.8 3.8 3.8 3.9]\n",
      " [3.9 3.9 3.9 4.4 4.4]]\n"
     ]
    }
   ],
   "source": [
    "# Bin boundaries\n",
    "for i in range (0,150,5):\n",
    "\tk=int(i/5)\n",
    "\tfor j in range (5):\n",
    "\t\tif (b[i+j]-b[i]) < (b[i+4]-b[i+j]):\n",
    "\t\t\tbin2[k,j]=b[i]\n",
    "\t\telse:\n",
    "\t\t\tbin2[k,j]=b[i+4]\t\n",
    "print(\"Bin Boundaries: \\n\",bin2)"
   ]
  },
  {
   "cell_type": "code",
   "execution_count": 18,
   "metadata": {},
   "outputs": [
    {
     "name": "stdout",
     "output_type": "stream",
     "text": [
      "Bin Median: \n",
      " [[2.2 2.2 2.2 2.2 2.2]\n",
      " [2.3 2.3 2.3 2.3 2.3]\n",
      " [2.5 2.5 2.5 2.5 2.5]\n",
      " [2.5 2.5 2.5 2.5 2.5]\n",
      " [2.6 2.6 2.6 2.6 2.6]\n",
      " [2.7 2.7 2.7 2.7 2.7]\n",
      " [2.7 2.7 2.7 2.7 2.7]\n",
      " [2.8 2.8 2.8 2.8 2.8]\n",
      " [2.8 2.8 2.8 2.8 2.8]\n",
      " [2.9 2.9 2.9 2.9 2.9]\n",
      " [2.9 2.9 2.9 2.9 2.9]\n",
      " [3.  3.  3.  3.  3. ]\n",
      " [3.  3.  3.  3.  3. ]\n",
      " [3.  3.  3.  3.  3. ]\n",
      " [3.  3.  3.  3.  3. ]\n",
      " [3.  3.  3.  3.  3. ]\n",
      " [3.  3.  3.  3.  3. ]\n",
      " [3.1 3.1 3.1 3.1 3.1]\n",
      " [3.1 3.1 3.1 3.1 3.1]\n",
      " [3.2 3.2 3.2 3.2 3.2]\n",
      " [3.2 3.2 3.2 3.2 3.2]\n",
      " [3.3 3.3 3.3 3.3 3.3]\n",
      " [3.3 3.3 3.3 3.3 3.3]\n",
      " [3.4 3.4 3.4 3.4 3.4]\n",
      " [3.4 3.4 3.4 3.4 3.4]\n",
      " [3.5 3.5 3.5 3.5 3.5]\n",
      " [3.6 3.6 3.6 3.6 3.6]\n",
      " [3.7 3.7 3.7 3.7 3.7]\n",
      " [3.8 3.8 3.8 3.8 3.8]\n",
      " [4.1 4.1 4.1 4.1 4.1]]\n"
     ]
    }
   ],
   "source": [
    "# Bin median\n",
    "for i in range (0,150,5):\n",
    "\tk=int(i/5)\n",
    "\tfor j in range (5):\n",
    "\t\tbin3[k,j]=b[i+2]\n",
    "print(\"Bin Median: \\n\",bin3)"
   ]
  },
  {
   "cell_type": "code",
   "execution_count": 19,
   "metadata": {},
   "outputs": [
    {
     "data": {
      "text/html": [
       "<div>\n",
       "<style scoped>\n",
       "    .dataframe tbody tr th:only-of-type {\n",
       "        vertical-align: middle;\n",
       "    }\n",
       "\n",
       "    .dataframe tbody tr th {\n",
       "        vertical-align: top;\n",
       "    }\n",
       "\n",
       "    .dataframe thead th {\n",
       "        text-align: right;\n",
       "    }\n",
       "</style>\n",
       "<table border=\"1\" class=\"dataframe\">\n",
       "  <thead>\n",
       "    <tr style=\"text-align: right;\">\n",
       "      <th></th>\n",
       "      <th>Col A</th>\n",
       "      <th>Col B</th>\n",
       "      <th>Col C</th>\n",
       "      <th>Col D</th>\n",
       "    </tr>\n",
       "  </thead>\n",
       "  <tbody>\n",
       "    <tr>\n",
       "      <th>0</th>\n",
       "      <td>180000</td>\n",
       "      <td>110</td>\n",
       "      <td>18.9</td>\n",
       "      <td>1400</td>\n",
       "    </tr>\n",
       "    <tr>\n",
       "      <th>1</th>\n",
       "      <td>360000</td>\n",
       "      <td>905</td>\n",
       "      <td>23.4</td>\n",
       "      <td>1800</td>\n",
       "    </tr>\n",
       "    <tr>\n",
       "      <th>2</th>\n",
       "      <td>230000</td>\n",
       "      <td>230</td>\n",
       "      <td>14.0</td>\n",
       "      <td>1300</td>\n",
       "    </tr>\n",
       "    <tr>\n",
       "      <th>3</th>\n",
       "      <td>60000</td>\n",
       "      <td>450</td>\n",
       "      <td>13.5</td>\n",
       "      <td>1500</td>\n",
       "    </tr>\n",
       "  </tbody>\n",
       "</table>\n",
       "</div>"
      ],
      "text/plain": [
       "    Col A  Col B  Col C  Col D\n",
       "0  180000    110   18.9   1400\n",
       "1  360000    905   23.4   1800\n",
       "2  230000    230   14.0   1300\n",
       "3   60000    450   13.5   1500"
      ]
     },
     "metadata": {},
     "output_type": "display_data"
    }
   ],
   "source": [
    "#Data Normalization with Pandas\n",
    "\n",
    "# importing packages\n",
    "import pandas as pd\n",
    "\n",
    "# create data\n",
    "df = pd.DataFrame([\n",
    "\t\t\t\t[180000, 110, 18.9, 1400],\n",
    "\t\t\t\t[360000, 905, 23.4, 1800],\n",
    "\t\t\t\t[230000, 230, 14.0, 1300],\n",
    "\t\t\t\t[60000, 450, 13.5, 1500]],\n",
    "\t\n",
    "\t\t\t\tcolumns=['Col A', 'Col B','Col C', 'Col D'])\n",
    "\n",
    "# view data\n",
    "display(df)\n"
   ]
  },
  {
   "cell_type": "code",
   "execution_count": 20,
   "metadata": {},
   "outputs": [
    {
     "data": {
      "text/plain": [
       "<AxesSubplot:>"
      ]
     },
     "execution_count": 20,
     "metadata": {},
     "output_type": "execute_result"
    },
    {
     "data": {
      "image/png": "[encoded data removed]",
      "text/plain": [
       "<Figure size 432x288 with 1 Axes>"
      ]
     },
     "metadata": {
      "needs_background": "light"
     },
     "output_type": "display_data"
    }
   ],
   "source": [
    "import matplotlib.pyplot as plt\n",
    "df.plot(kind = 'bar')"
   ]
  },
  {
   "cell_type": "code",
   "execution_count": 21,
   "metadata": {},
   "outputs": [
    {
     "data": {
      "text/html": [
       "<div>\n",
       "<style scoped>\n",
       "    .dataframe tbody tr th:only-of-type {\n",
       "        vertical-align: middle;\n",
       "    }\n",
       "\n",
       "    .dataframe tbody tr th {\n",
       "        vertical-align: top;\n",
       "    }\n",
       "\n",
       "    .dataframe thead th {\n",
       "        text-align: right;\n",
       "    }\n",
       "</style>\n",
       "<table border=\"1\" class=\"dataframe\">\n",
       "  <thead>\n",
       "    <tr style=\"text-align: right;\">\n",
       "      <th></th>\n",
       "      <th>Col A</th>\n",
       "      <th>Col B</th>\n",
       "      <th>Col C</th>\n",
       "      <th>Col D</th>\n",
       "    </tr>\n",
       "  </thead>\n",
       "  <tbody>\n",
       "    <tr>\n",
       "      <th>0</th>\n",
       "      <td>0.500000</td>\n",
       "      <td>0.121547</td>\n",
       "      <td>0.807692</td>\n",
       "      <td>0.777778</td>\n",
       "    </tr>\n",
       "    <tr>\n",
       "      <th>1</th>\n",
       "      <td>1.000000</td>\n",
       "      <td>1.000000</td>\n",
       "      <td>1.000000</td>\n",
       "      <td>1.000000</td>\n",
       "    </tr>\n",
       "    <tr>\n",
       "      <th>2</th>\n",
       "      <td>0.638889</td>\n",
       "      <td>0.254144</td>\n",
       "      <td>0.598291</td>\n",
       "      <td>0.722222</td>\n",
       "    </tr>\n",
       "    <tr>\n",
       "      <th>3</th>\n",
       "      <td>0.166667</td>\n",
       "      <td>0.497238</td>\n",
       "      <td>0.576923</td>\n",
       "      <td>0.833333</td>\n",
       "    </tr>\n",
       "  </tbody>\n",
       "</table>\n",
       "</div>"
      ],
      "text/plain": [
       "      Col A     Col B     Col C     Col D\n",
       "0  0.500000  0.121547  0.807692  0.777778\n",
       "1  1.000000  1.000000  1.000000  1.000000\n",
       "2  0.638889  0.254144  0.598291  0.722222\n",
       "3  0.166667  0.497238  0.576923  0.833333"
      ]
     },
     "metadata": {},
     "output_type": "display_data"
    }
   ],
   "source": [
    "# copy the data\n",
    "df_max_scaled = df.copy()\n",
    "\n",
    "# apply normalization techniques\n",
    "for column in df_max_scaled.columns:\n",
    "\tdf_max_scaled[column] = df_max_scaled[column] / df_max_scaled[column].abs().max()\n",
    "\t\n",
    "# view normalized data\n",
    "display(df_max_scaled)\n"
   ]
  },
  {
   "cell_type": "code",
   "execution_count": 19,
   "metadata": {},
   "outputs": [
    {
     "data": {
      "text/plain": [
       "<AxesSubplot:>"
      ]
     },
     "execution_count": 19,
     "metadata": {},
     "output_type": "execute_result"
    },
    {
     "data": {
      "image/png": "[encoded data removed]",
      "text/plain": [
       "<Figure size 432x288 with 1 Axes>"
      ]
     },
     "metadata": {
      "needs_background": "light"
     },
     "output_type": "display_data"
    }
   ],
   "source": [
    "import matplotlib.pyplot as plt\n",
    "df_max_scaled.plot(kind = 'bar')\n"
   ]
  },
  {
   "cell_type": "code",
   "execution_count": 20,
   "metadata": {},
   "outputs": [
    {
     "name": "stdout",
     "output_type": "stream",
     "text": [
      "      Col A     Col B     Col C  Col D\n",
      "0  0.400000  0.000000  0.545455    0.2\n",
      "1  1.000000  1.000000  1.000000    1.0\n",
      "2  0.566667  0.150943  0.050505    0.0\n",
      "3  0.000000  0.427673  0.000000    0.4\n"
     ]
    }
   ],
   "source": [
    "# copy the data\n",
    "df_min_max_scaled = df.copy()\n",
    "\n",
    "# apply normalization techniques\n",
    "for column in df_min_max_scaled.columns:\n",
    "\tdf_min_max_scaled[column] = (df_min_max_scaled[column] - df_min_max_scaled[column].min()) / (df_min_max_scaled[column].max() - df_min_max_scaled[column].min())\t\n",
    "\n",
    "# view normalized data\n",
    "print(df_min_max_scaled)\n"
   ]
  },
  {
   "cell_type": "code",
   "execution_count": 21,
   "metadata": {},
   "outputs": [
    {
     "data": {
      "text/plain": [
       "<AxesSubplot:>"
      ]
     },
     "execution_count": 21,
     "metadata": {},
     "output_type": "execute_result"
    },
    {
     "data": {
      "image/png": "[encoded data removed]",
      "text/plain": [
       "<Figure size 432x288 with 1 Axes>"
      ]
     },
     "metadata": {
      "needs_background": "light"
     },
     "output_type": "display_data"
    }
   ],
   "source": [
    "import matplotlib.pyplot as plt\n",
    "df_min_max_scaled.plot(kind = 'bar')\n"
   ]
  },
  {
   "cell_type": "code",
   "execution_count": 22,
   "metadata": {},
   "outputs": [
    {
     "data": {
      "text/html": [
       "<div>\n",
       "<style scoped>\n",
       "    .dataframe tbody tr th:only-of-type {\n",
       "        vertical-align: middle;\n",
       "    }\n",
       "\n",
       "    .dataframe tbody tr th {\n",
       "        vertical-align: top;\n",
       "    }\n",
       "\n",
       "    .dataframe thead th {\n",
       "        text-align: right;\n",
       "    }\n",
       "</style>\n",
       "<table border=\"1\" class=\"dataframe\">\n",
       "  <thead>\n",
       "    <tr style=\"text-align: right;\">\n",
       "      <th></th>\n",
       "      <th>Col A</th>\n",
       "      <th>Col B</th>\n",
       "      <th>Col C</th>\n",
       "      <th>Col D</th>\n",
       "    </tr>\n",
       "  </thead>\n",
       "  <tbody>\n",
       "    <tr>\n",
       "      <th>0</th>\n",
       "      <td>-0.221422</td>\n",
       "      <td>-0.895492</td>\n",
       "      <td>0.311486</td>\n",
       "      <td>-0.46291</td>\n",
       "    </tr>\n",
       "    <tr>\n",
       "      <th>1</th>\n",
       "      <td>1.227884</td>\n",
       "      <td>1.373564</td>\n",
       "      <td>1.278167</td>\n",
       "      <td>1.38873</td>\n",
       "    </tr>\n",
       "    <tr>\n",
       "      <th>2</th>\n",
       "      <td>0.181163</td>\n",
       "      <td>-0.552993</td>\n",
       "      <td>-0.741122</td>\n",
       "      <td>-0.92582</td>\n",
       "    </tr>\n",
       "    <tr>\n",
       "      <th>3</th>\n",
       "      <td>-1.187625</td>\n",
       "      <td>0.074922</td>\n",
       "      <td>-0.848531</td>\n",
       "      <td>0.00000</td>\n",
       "    </tr>\n",
       "  </tbody>\n",
       "</table>\n",
       "</div>"
      ],
      "text/plain": [
       "      Col A     Col B     Col C    Col D\n",
       "0 -0.221422 -0.895492  0.311486 -0.46291\n",
       "1  1.227884  1.373564  1.278167  1.38873\n",
       "2  0.181163 -0.552993 -0.741122 -0.92582\n",
       "3 -1.187625  0.074922 -0.848531  0.00000"
      ]
     },
     "metadata": {},
     "output_type": "display_data"
    }
   ],
   "source": [
    "# copy the data\n",
    "df_z_scaled = df.copy()\n",
    "\n",
    "# apply normalization techniques\n",
    "for column in df_z_scaled.columns:\n",
    "\tdf_z_scaled[column] = (df_z_scaled[column] -\n",
    "\t\t\t\t\t\tdf_z_scaled[column].mean()) / df_z_scaled[column].std()\t\n",
    "\n",
    "# view normalized data\n",
    "display(df_z_scaled)\n"
   ]
  },
  {
   "cell_type": "code",
   "execution_count": 23,
   "metadata": {},
   "outputs": [
    {
     "data": {
      "text/plain": [
       "<AxesSubplot:>"
      ]
     },
     "execution_count": 23,
     "metadata": {},
     "output_type": "execute_result"
    },
    {
     "data": {
      "image/png": "[encoded data removed]",
      "text/plain": [
       "<Figure size 432x288 with 1 Axes>"
      ]
     },
     "metadata": {
      "needs_background": "light"
     },
     "output_type": "display_data"
    }
   ],
   "source": [
    "import matplotlib.pyplot as plt\n",
    "df_z_scaled.plot(kind='bar')\n"
   ]
  }
 ],
 "metadata": {
  "kernelspec": {
   "display_name": "Python 3",
   "language": "python",
   "name": "python3"
  },
  "language_info": {
   "codemirror_mode": {
    "name": "ipython",
    "version": 3
   },
   "file_extension": ".py",
   "mimetype": "text/x-python",
   "name": "python",
   "nbconvert_exporter": "python",
   "pygments_lexer": "ipython3",
   "version": "3.8.5"
  }
 },
 "nbformat": 4,
 "nbformat_minor": 4
}
