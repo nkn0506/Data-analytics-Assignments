{
 "cells": [
  {
   "cell_type": "markdown",
   "metadata": {},
   "source": [
    "# pandas module \n",
    "# Operating systems(OS) module"
   ]
  },
  {
   "cell_type": "code",
   "execution_count": 2,
   "metadata": {},
   "outputs": [
    {
     "name": "stdout",
     "output_type": "stream",
     "text": [
      "\n",
      "cwd= C:\\Users\\Neha Nemade\\22150_DA_LAB\n"
     ]
    }
   ],
   "source": [
    "import os\n",
    "cwd=os.getcwd()\n",
    "print(\"\\ncwd=\",cwd)"
   ]
  },
  {
   "cell_type": "code",
   "execution_count": 4,
   "metadata": {},
   "outputs": [
    {
     "name": "stdout",
     "output_type": "stream",
     "text": [
      "\n",
      "cwd= E:\\sem4\\DA\n",
      "\n",
      "cwd= E:\\sem4\\DA\n"
     ]
    }
   ],
   "source": [
    "import os\n",
    "cwd=os.getcwd()\n",
    "print(\"\\ncwd=\",cwd)\n",
    "os.chdir('E:\\sem4\\DA')\n",
    "print(\"\\ncwd=\",cwd)"
   ]
  },
  {
   "cell_type": "code",
   "execution_count": 5,
   "metadata": {},
   "outputs": [
    {
     "name": "stdout",
     "output_type": "stream",
     "text": [
      "\n",
      "cwd= E:\\sem4\\DA\n"
     ]
    }
   ],
   "source": [
    "import os\n",
    "cwd=os.getcwd()\n",
    "print(\"\\ncwd=\",cwd)"
   ]
  },
  {
   "cell_type": "code",
   "execution_count": 9,
   "metadata": {},
   "outputs": [
    {
     "name": "stdout",
     "output_type": "stream",
     "text": [
      "\n",
      "cwd= E:\\sem4\\DA\n"
     ]
    }
   ],
   "source": [
    "import os\n",
    "cwd=os.getcwd()\n",
    "# print(\"\\ncwd=\",cwd)\n",
    "path1=\"pandas3\"\n",
    "path2=\"E:\\sem4\\DA\"\n",
    "path=os.path.join(path2,path1)\n",
    "os.mkdir(path)\n",
    "print(\"\\ncwd=\",cwd)"
   ]
  },
  {
   "cell_type": "code",
   "execution_count": 8,
   "metadata": {},
   "outputs": [
    {
     "name": "stdout",
     "output_type": "stream",
     "text": [
      "\n",
      "Cwd= C:\\Users\\Neha Nemade\\22150_DA_LAB\n",
      "\n",
      "Cwd= C:\\Users\\Neha Nemade\\22150_DA_LAB\n",
      "data=\n",
      "    Roll no            Name  marks\n",
      "0       20  Prasad khalkar    100\n",
      "1       21  aniket khalkar     98\n",
      "2       22     priya patil     78\n",
      "3       23   poonam chavan     90\n",
      "data2=\n",
      " RangeIndex(start=0, stop=4, step=1)\n",
      "data3=\n",
      " Index(['Roll no', 'Name', 'marks'], dtype='object')\n"
     ]
    }
   ],
   "source": [
    "import pandas as pd\n",
    "import numpy as num\n",
    "import os\n",
    "cwd=os.getcwd()\n",
    "print(\"\\nCwd=\",cwd)\n",
    "os.chdir(\"E:\\sem4\\DA\\pandas3\")\n",
    "print(\"\\nCwd=\",cwd)\n",
    "data=pd.read_csv('data1.csv')\n",
    "print(\"data=\\n\",data)\n",
    "data2=data.index\n",
    "print(\"data2=\\n\",data2)\n",
    "data3=data.columns\n",
    "print(\"data3=\\n\",data3)"
   ]
  },
  {
   "cell_type": "markdown",
   "metadata": {},
   "source": [
    "# "
   ]
  },
  {
   "cell_type": "markdown",
   "metadata": {},
   "source": [
    "# SHAPE function"
   ]
  },
  {
   "cell_type": "code",
   "execution_count": 10,
   "metadata": {},
   "outputs": [
    {
     "name": "stdout",
     "output_type": "stream",
     "text": [
      "\n",
      " Data =  E:\\sem4\\DA\\pandas3\n",
      "\n",
      "Cwd= E:\\sem4\\DA\\pandas3\n",
      "data=\n",
      "    Roll no            Name  marks\n",
      "0       20  Prasad khalkar    100\n",
      "1       21  aniket khalkar     98\n",
      "2       22     priya patil     78\n",
      "3       23   poonam chavan     90\n",
      "\n",
      "\n",
      "no of elements =  12\n",
      "\n",
      "\n",
      "nnumber of rows and columns are:  (4, 3)\n"
     ]
    }
   ],
   "source": [
    "import os\n",
    "import pandas as pd\n",
    "import numpy as num\n",
    "cwd=os.getcwd()\n",
    "print(\"\\n Data = \",cwd)\n",
    "os.chdir(\"E:\\sem4\\DA\\pandas3\")\n",
    "print(\"\\nCwd=\",cwd)\n",
    "data=pd.read_csv('data1.csv')\n",
    "print(\"data=\\n\",data)\n",
    "no_ele=data.size\n",
    "print(\"\\n\\nno of elements = \",no_ele)\n",
    "no_row_col=data.shape\n",
    "print(\"\\n\\nnnumber of rows and columns are: \",no_row_col)"
   ]
  },
  {
   "cell_type": "code",
   "execution_count": 3,
   "metadata": {},
   "outputs": [
    {
     "name": "stdout",
     "output_type": "stream",
     "text": [
      "\n",
      "cwd= C:\\Users\\Neha Nemade\\22150_DA_LAB\n"
     ]
    }
   ],
   "source": [
    "import os\n",
    "cwd=os.getcwd()\n",
    "print(\"\\ncwd=\",cwd)"
   ]
  },
  {
   "cell_type": "markdown",
   "metadata": {},
   "source": [
    "# Dim data"
   ]
  },
  {
   "cell_type": "code",
   "execution_count": 12,
   "metadata": {},
   "outputs": [
    {
     "name": "stdout",
     "output_type": "stream",
     "text": [
      "\n",
      " Data =  E:\\sem4\\DA\\pandas3\n",
      "\n",
      "Cwd= E:\\sem4\\DA\\pandas3\n",
      "data=\n",
      "    Roll no            Name  marks\n",
      "0       20  Prasad khalkar    100\n",
      "1       21  aniket khalkar     98\n",
      "2       22     priya patil     78\n",
      "3       23   poonam chavan     90\n",
      "\n",
      "dim_data= 2\n"
     ]
    }
   ],
   "source": [
    "import os\n",
    "import pandas as pd\n",
    "import numpy as num\n",
    "cwd=os.getcwd()\n",
    "print(\"\\n Data = \",cwd)\n",
    "os.chdir(\"E:\\sem4\\DA\\pandas3\")\n",
    "print(\"\\nCwd=\",cwd)\n",
    "data=pd.read_csv('data1.csv')\n",
    "dim_data=data.ndim\n",
    "print(\"\\ndim_data=\",dim_data)\n"
   ]
  },
  {
   "cell_type": "markdown",
   "metadata": {},
   "source": [
    "# data.head     "
   ]
  },
  {
   "cell_type": "code",
   "execution_count": 25,
   "metadata": {},
   "outputs": [
    {
     "name": "stdout",
     "output_type": "stream",
     "text": [
      "\n",
      " Data =  E:\\sem4\\DA\\pandas3\n",
      "\n",
      "Cwd= E:\\sem4\\DA\\pandas3\n",
      "data=\n",
      "    Roll no            Name  marks\n",
      "0       20  Prasad khalkar    100\n",
      "1       21  aniket khalkar     98\n",
      "2       22     priya patil     78\n",
      "3       23   poonam chavan     90\n",
      "\n",
      "\n",
      "n_f_r\n",
      "=    Roll no            Name  marks\n",
      "0       20  Prasad khalkar    100\n",
      "1       21  aniket khalkar     98\n",
      "2       22     priya patil     78\n",
      "\n",
      "\n",
      "n_l_r\n",
      "=    Roll no            Name  marks\n",
      "1       21  aniket khalkar     98\n",
      "2       22     priya patil     78\n",
      "3       23   poonam chavan     90\n"
     ]
    }
   ],
   "source": [
    "import os\n",
    "import pandas as pd\n",
    "import numpy as num\n",
    "cwd=os.getcwd()\n",
    "print(\"\\n Data = \",cwd)\n",
    "os.chdir(\"E:\\sem4\\DA\\pandas3\")\n",
    "print(\"\\nCwd=\",cwd)\n",
    "data=pd.read_csv('data1.csv')\n",
    "print(\"data=\\n\",data)               #This function returns the first n rows for the object based on position\n",
    "n_f_r=data.head(-1)                 #For negative values of n, this function returns all rows except the last n rows, equivalent to df[:-n].\n",
    "print(\"\\n\\nn_f_r\\n=\",n_f_r)\n",
    "n_l_r=data.tail(3)\n",
    "print(\"\\n\\nn_l_r\\n=\",n_l_r)"
   ]
  },
  {
   "cell_type": "markdown",
   "metadata": {},
   "source": [
    "# search data = data.at()"
   ]
  },
  {
   "cell_type": "code",
   "execution_count": 29,
   "metadata": {},
   "outputs": [
    {
     "name": "stdout",
     "output_type": "stream",
     "text": [
      "\n",
      " Data =  E:\\sem4\\DA\\pandas3\n",
      "\n",
      "Cwd= E:\\sem4\\DA\\pandas3\n",
      "data=\n",
      "    Roll no            Name  marks\n",
      "0       20  Prasad khalkar    100\n",
      "1       21  aniket khalkar     98\n",
      "2       22     priya patil     78\n",
      "3       23   poonam chavan     90\n",
      "\n",
      "search= poonam chavan\n"
     ]
    }
   ],
   "source": [
    "import os\n",
    "import pandas as pd\n",
    "import numpy as num\n",
    "cwd=os.getcwd()\n",
    "print(\"\\n Data = \",cwd)\n",
    "os.chdir(\"E:\\sem4\\DA\\pandas3\")\n",
    "print(\"\\nCwd=\",cwd)\n",
    "data=pd.read_csv('data1.csv')\n",
    "print(\"data=\\n\",data) \n",
    "search_data=data.at[3,'Name']\n",
    "print(\"\\nsearch=\",search_data)"
   ]
  },
  {
   "cell_type": "markdown",
   "metadata": {},
   "source": [
    "# data.loc and data.iat"
   ]
  },
  {
   "cell_type": "code",
   "execution_count": 40,
   "metadata": {},
   "outputs": [
    {
     "name": "stdout",
     "output_type": "stream",
     "text": [
      "\n",
      " Data =  E:\\sem4\\DA\\pandas3\n",
      "\n",
      "Cwd= E:\\sem4\\DA\\pandas3\n",
      "data=\n",
      "    Roll no            Name  marks\n",
      "0       20  Prasad khalkar    100\n",
      "1       21  aniket khalkar     98\n",
      "2       22     priya patil     78\n",
      "3       23   poonam chavan     90\n",
      "\n",
      "index_search=  22 \n",
      "c=  90\n",
      "\n",
      "loc_data=\n",
      " 1    aniket khalkar\n",
      "2       priya patil\n",
      "3     poonam chavan\n",
      "Name: Name, dtype: object\n",
      "\n",
      "loc_data=\n",
      " Roll no                21\n",
      "Name       aniket khalkar\n",
      "marks                  98\n",
      "Name: 1, dtype: object\n"
     ]
    }
   ],
   "source": [
    "import os\n",
    "import pandas as pd\n",
    "import numpy as num\n",
    "cwd=os.getcwd()\n",
    "print(\"\\n Data = \",cwd)\n",
    "os.chdir(\"E:\\sem4\\DA\\pandas3\")\n",
    "print(\"\\nCwd=\",cwd)\n",
    "data=pd.read_csv('data1.csv')\n",
    "print(\"data=\\n\",data) \n",
    "index_search=data.iat[2,0]                         #Access a single value for a row/column pair by integer position.\n",
    "c=data.iat[3,2]\n",
    "print(\"\\nindex_search= \",index_search,\"\\nc= \",c)\n",
    "loc_data=data.loc[1:5,'Name']                      #Access a group of rows and columns by label(s) or a boolean array.\n",
    "print(\"\\nloc_data=\\n\",loc_data)\n",
    "loc_data1=data.loc[1,'Roll no':'marks']\n",
    "print(\"\\nloc_data=\\n\",loc_data1)"
   ]
  }
 ],
 "metadata": {
  "kernelspec": {
   "display_name": "Python 3",
   "language": "python",
   "name": "python3"
  },
  "language_info": {
   "codemirror_mode": {
    "name": "ipython",
    "version": 3
   },
   "file_extension": ".py",
   "mimetype": "text/x-python",
   "name": "python",
   "nbconvert_exporter": "python",
   "pygments_lexer": "ipython3",
   "version": "3.8.5"
  }
 },
 "nbformat": 4,
 "nbformat_minor": 4
}
