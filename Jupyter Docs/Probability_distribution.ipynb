{
 "cells": [
  {
   "cell_type": "code",
   "execution_count": null,
   "metadata": {},
   "outputs": [],
   "source": [
    "#Name: Neha Kamalakar Nemade\n",
    "#Roll no: 22150\n",
    "#Batch: G-5"
   ]
  },
  {
   "cell_type": "markdown",
   "metadata": {},
   "source": [
    "# Generating random number, array using randint() and rand() methods"
   ]
  },
  {
   "cell_type": "code",
   "execution_count": 44,
   "metadata": {},
   "outputs": [
    {
     "name": "stdout",
     "output_type": "stream",
     "text": [
      "148\n"
     ]
    }
   ],
   "source": [
    "#Creating random number using randint\n",
    "from numpy import random\n",
    "x=random.randint(500)\n",
    "print(x)"
   ]
  },
  {
   "cell_type": "code",
   "execution_count": 35,
   "metadata": {},
   "outputs": [
    {
     "name": "stdout",
     "output_type": "stream",
     "text": [
      "\n",
      "[10 72 66  7 87]\n"
     ]
    }
   ],
   "source": [
    "print()\n",
    "#generate random array\n",
    "arr=random.randint(100,size=(5))\n",
    "print(arr)"
   ]
  },
  {
   "cell_type": "code",
   "execution_count": 38,
   "metadata": {},
   "outputs": [
    {
     "name": "stdout",
     "output_type": "stream",
     "text": [
      "\n",
      "[[ 99 256 109 450 428 301]\n",
      " [473 150 444 513 518 597]\n",
      " [220 294  13 145 362 205]\n",
      " [595  96 335 588  29  62]]\n"
     ]
    }
   ],
   "source": [
    "print()\n",
    "#generate 2-d array \n",
    "arr=random.randint(600,size=(4,6))\n",
    "print(arr)"
   ]
  },
  {
   "cell_type": "code",
   "execution_count": 45,
   "metadata": {},
   "outputs": [
    {
     "name": "stdout",
     "output_type": "stream",
     "text": [
      "0.652591262029358\n"
     ]
    }
   ],
   "source": [
    "# creating random float between 0 to 1\n",
    "x=random.rand()\n",
    "print(x)\n"
   ]
  },
  {
   "cell_type": "code",
   "execution_count": 33,
   "metadata": {},
   "outputs": [
    {
     "name": "stdout",
     "output_type": "stream",
     "text": [
      "[0.01093999 0.13430828 0.8908858  0.35170308 0.8811336 ]\n"
     ]
    }
   ],
   "source": [
    "#generating array of type float\n",
    "arr=random.rand(5)\n",
    "print(arr)\n"
   ]
  },
  {
   "cell_type": "code",
   "execution_count": 41,
   "metadata": {},
   "outputs": [
    {
     "name": "stdout",
     "output_type": "stream",
     "text": [
      "\n",
      "[[0.36185347 0.10583162 0.45202395 0.53218523 0.11415528]\n",
      " [0.82240462 0.36780057 0.09915455 0.91560782 0.14716615]\n",
      " [0.41277176 0.6565353  0.10559598 0.05025933 0.072034  ]\n",
      " [0.15663312 0.50936741 0.48728733 0.88358752 0.21611921]]\n"
     ]
    }
   ],
   "source": [
    "#generating 2-D array of type float\n",
    "print()\n",
    "arr=random.rand(4,5)\n",
    "print(arr)"
   ]
  },
  {
   "cell_type": "code",
   "execution_count": 43,
   "metadata": {},
   "outputs": [
    {
     "name": "stdout",
     "output_type": "stream",
     "text": [
      "6\n"
     ]
    }
   ],
   "source": [
    "#generating random number from array using choice() method\n",
    "arr=random.choice([5,6,7,8])\n",
    "print(arr)"
   ]
  },
  {
   "cell_type": "code",
   "execution_count": 50,
   "metadata": {},
   "outputs": [
    {
     "name": "stdout",
     "output_type": "stream",
     "text": [
      "[[ 3  4  5  5  5]\n",
      " [ 6  5  4  3  5]\n",
      " [ 6  3 10  6  5]\n",
      " [ 4  5  5  6 10]]\n"
     ]
    }
   ],
   "source": [
    "#generating 2-D array from given set of values\n",
    "arr=random.choice([3,4,5,6,10],size=(4,5))\n",
    "print(arr)"
   ]
  },
  {
   "cell_type": "markdown",
   "metadata": {},
   "source": [
    "# Random data distribution"
   ]
  },
  {
   "cell_type": "code",
   "execution_count": 57,
   "metadata": {},
   "outputs": [
    {
     "name": "stdout",
     "output_type": "stream",
     "text": [
      "\n",
      " [7 5 7 3 7 3 5 9 5 7 5 5 5 3 9 7 3 5 5 7 5 5 3 3 5 7 9 9 9 5 7 5 7 7 7 7 7\n",
      " 5 5 3 3 7 7 7 7 7 7 7 9 7 5 5 5 5 5 5 9 5 9 7 5 9 5 5 5 7 7 5 9 5 7 5 7 5\n",
      " 5 9 5 5 5 9 7 7 9 7 7 7 7 7 7 9 5 5 9 5 5 7 9 7 5 7]\n"
     ]
    }
   ],
   "source": [
    "#generating 1-D array from given values and using given probability\n",
    "# The probability for the value to be 3 is set to be 0.1\n",
    "# The probability for the value to be 5 is set to be 0.4\n",
    "# The probability for the value to be 7 is set to be 0.3\n",
    "# The probability for the value to be 9 is set to be 0.2\n",
    "\n",
    "x=random.choice([3,5,7,9], p=[0.1,0.4,0.3,0.2], size=(100))\n",
    "print(\"\\n\",x)\n",
    "\n"
   ]
  },
  {
   "cell_type": "code",
   "execution_count": 63,
   "metadata": {},
   "outputs": [
    {
     "name": "stdout",
     "output_type": "stream",
     "text": [
      "\n",
      " [[67 67 67  6]\n",
      " [ 7  7 67  7]\n",
      " [67 67  7  7]\n",
      " [ 6  6 67 23]]\n"
     ]
    }
   ],
   "source": [
    "#generating 2-D array with given probability\n",
    "arr=random.choice([6,7,23,67], p=[0.2,0.4,0.1,0.3], size=(4,4))\n",
    "print(\"\\n\",arr)"
   ]
  },
  {
   "cell_type": "markdown",
   "metadata": {},
   "source": [
    "# Random Permutations"
   ]
  },
  {
   "cell_type": "code",
   "execution_count": 78,
   "metadata": {},
   "outputs": [
    {
     "name": "stdout",
     "output_type": "stream",
     "text": [
      "[42 30 80 24 68]\n"
     ]
    }
   ],
   "source": [
    "#Shuffling array\n",
    "import numpy as np\n",
    "arr=np.array([42,68,30,24,80])\n",
    "random.shuffle(arr)\n",
    "print(arr)"
   ]
  },
  {
   "cell_type": "code",
   "execution_count": 81,
   "metadata": {},
   "outputs": [
    {
     "name": "stdout",
     "output_type": "stream",
     "text": [
      "[8 4 7 6 5]\n"
     ]
    }
   ],
   "source": [
    "#generating random permutations of elements of array\n",
    "arr=np.array([4,5,6,7,8])\n",
    "print(random.permutation(arr))"
   ]
  },
  {
   "cell_type": "markdown",
   "metadata": {},
   "source": [
    "# Seaborn Module"
   ]
  },
  {
   "cell_type": "code",
   "execution_count": 97,
   "metadata": {},
   "outputs": [
    {
     "data": {
      "image/png": "[encoded data removed]",
      "text/plain": [
       "<Figure size 360x360 with 1 Axes>"
      ]
     },
     "metadata": {},
     "output_type": "display_data"
    }
   ],
   "source": [
    "#plotting a Distplot\n",
    "import matplotlib.pyplot as plt\n",
    "import seaborn as sns\n",
    "\n",
    "sns.set_theme() \n",
    "np.random.seed(0)\n",
    "x = np.random.randn(100)\n",
    "ax = sns.displot(x)"
   ]
  },
  {
   "cell_type": "code",
   "execution_count": 100,
   "metadata": {},
   "outputs": [
    {
     "name": "stderr",
     "output_type": "stream",
     "text": [
      "C:\\Users\\Neha Nemade\\anaconda3\\lib\\site-packages\\seaborn\\distributions.py:2551: FutureWarning: `distplot` is a deprecated function and will be removed in a future version. Please adapt your code to use either `displot` (a figure-level function with similar flexibility) or `kdeplot` (an axes-level function for kernel density plots).\n",
      "  warnings.warn(msg, FutureWarning)\n"
     ]
    },
    {
     "data": {
      "image/png": "[encoded data removed]",
      "text/plain": [
       "<Figure size 432x288 with 1 Axes>"
      ]
     },
     "metadata": {},
     "output_type": "display_data"
    }
   ],
   "source": [
    "sns.distplot([0,1,2,3,4,5], hist=False)\n",
    "plt.show()"
   ]
  },
  {
   "cell_type": "markdown",
   "metadata": {},
   "source": [
    "# Normal Gaussian Distribution"
   ]
  },
  {
   "cell_type": "code",
   "execution_count": 106,
   "metadata": {},
   "outputs": [
    {
     "name": "stdout",
     "output_type": "stream",
     "text": [
      "[[-0.36918184 -0.23937918  1.0996596   0.65526373  0.64013153]\n",
      " [-1.61695604 -0.02432612 -0.73803091  0.2799246  -0.09815039]\n",
      " [ 0.91017891  0.31721822  0.78632796 -0.4664191  -0.94444626]\n",
      " [-0.41004969 -0.01702041  0.37915174  2.25930895 -0.04225715]]\n"
     ]
    }
   ],
   "source": [
    "#generating random normal distribution\n",
    "x=random.normal(size=(4,5))\n",
    "print(x)"
   ]
  },
  {
   "cell_type": "code",
   "execution_count": 110,
   "metadata": {},
   "outputs": [
    {
     "name": "stdout",
     "output_type": "stream",
     "text": [
      "[[-0.08572295  1.83210009 -1.31236486  2.5623962 ]\n",
      " [ 3.98896909 -3.13997005  1.85251746  2.35381607]\n",
      " [-0.27487405  0.20545637  0.73423884  0.40441824]]\n"
     ]
    }
   ],
   "source": [
    "#generating random normal distribution with mean and standard deviation\n",
    "# mean=1, standard deviation=2\n",
    "arr=random.normal(loc=1, scale=2, size=(3,4))\n",
    "print(arr)"
   ]
  },
  {
   "cell_type": "markdown",
   "metadata": {},
   "source": [
    "# Visualization of normal distribution"
   ]
  },
  {
   "cell_type": "code",
   "execution_count": 111,
   "metadata": {},
   "outputs": [
    {
     "name": "stderr",
     "output_type": "stream",
     "text": [
      "C:\\Users\\Neha Nemade\\anaconda3\\lib\\site-packages\\seaborn\\distributions.py:2551: FutureWarning: `distplot` is a deprecated function and will be removed in a future version. Please adapt your code to use either `displot` (a figure-level function with similar flexibility) or `kdeplot` (an axes-level function for kernel density plots).\n",
      "  warnings.warn(msg, FutureWarning)\n"
     ]
    },
    {
     "data": {
      "image/png": "[encoded data removed]",
      "text/plain": [
       "<Figure size 432x288 with 1 Axes>"
      ]
     },
     "metadata": {},
     "output_type": "display_data"
    }
   ],
   "source": [
    "sns.distplot(random.normal(size=1000),hist=False)\n",
    "plt.show()"
   ]
  },
  {
   "cell_type": "code",
   "execution_count": null,
   "metadata": {},
   "outputs": [],
   "source": [
    "penguins = sns.load_dataset(\"penguins\")\n",
    "sns.displot(penguins, x=\"flipper_length_mm\")"
   ]
  },
  {
   "cell_type": "code",
   "execution_count": 114,
   "metadata": {},
   "outputs": [
    {
     "name": "stdout",
     "output_type": "stream",
     "text": [
      "[6 3 6 6 4 5 5 5 6 8]\n"
     ]
    }
   ],
   "source": [
    "arr=random.binomial(n=10,p=0.5,size=10)\n",
    "print(arr)"
   ]
  },
  {
   "cell_type": "code",
   "execution_count": 117,
   "metadata": {
    "scrolled": true
   },
   "outputs": [
    {
     "data": {
      "image/png": "[encoded data removed]",
      "text/plain": [
       "<Figure size 360x360 with 1 Axes>"
      ]
     },
     "metadata": {},
     "output_type": "display_data"
    }
   ],
   "source": [
    "#vitualization of binomial distribution\n",
    "sns.displot(random.binomial(n=10,p=0.5,size=1000))\n",
    "plt.show()"
   ]
  },
  {
   "cell_type": "markdown",
   "metadata": {},
   "source": [
    "# Difference Between Normal and Binomial Distribution"
   ]
  },
  {
   "cell_type": "code",
   "execution_count": 122,
   "metadata": {},
   "outputs": [
    {
     "name": "stderr",
     "output_type": "stream",
     "text": [
      "C:\\Users\\Neha Nemade\\anaconda3\\lib\\site-packages\\seaborn\\distributions.py:2551: FutureWarning: `distplot` is a deprecated function and will be removed in a future version. Please adapt your code to use either `displot` (a figure-level function with similar flexibility) or `kdeplot` (an axes-level function for kernel density plots).\n",
      "  warnings.warn(msg, FutureWarning)\n",
      "C:\\Users\\Neha Nemade\\anaconda3\\lib\\site-packages\\seaborn\\distributions.py:2551: FutureWarning: `distplot` is a deprecated function and will be removed in a future version. Please adapt your code to use either `displot` (a figure-level function with similar flexibility) or `kdeplot` (an axes-level function for kernel density plots).\n",
      "  warnings.warn(msg, FutureWarning)\n"
     ]
    },
    {
     "data": {
      "image/png": "[encoded data removed]",
      "text/plain": [
       "<Figure size 432x288 with 1 Axes>"
      ]
     },
     "metadata": {},
     "output_type": "display_data"
    }
   ],
   "source": [
    "sns.distplot(random.normal(loc=50,scale=5,size=1000), hist=False)\n",
    "sns.distplot(random.binomial(n=100,p=0.5,size=1000),hist=False)\n",
    "plt.show()"
   ]
  },
  {
   "cell_type": "markdown",
   "metadata": {},
   "source": [
    "# Uniform Distribution"
   ]
  },
  {
   "cell_type": "code",
   "execution_count": 125,
   "metadata": {},
   "outputs": [
    {
     "name": "stdout",
     "output_type": "stream",
     "text": [
      "\n",
      " [[0.69733635 0.59550783 0.81226642 0.05097729 0.12092097]\n",
      " [0.45202225 0.17937865 0.50205434 0.32294824 0.7195445 ]\n",
      " [0.78753686 0.69291673 0.24804844 0.30187789 0.0446775 ]\n",
      " [0.81477633 0.505237   0.29917803 0.67580571 0.95910518]]\n"
     ]
    }
   ],
   "source": [
    "x=random.uniform(size=(4,5))\n",
    "print(\"\\n\",x)"
   ]
  },
  {
   "cell_type": "code",
   "execution_count": 129,
   "metadata": {},
   "outputs": [
    {
     "name": "stderr",
     "output_type": "stream",
     "text": [
      "C:\\Users\\Neha Nemade\\anaconda3\\lib\\site-packages\\seaborn\\distributions.py:2551: FutureWarning: `distplot` is a deprecated function and will be removed in a future version. Please adapt your code to use either `displot` (a figure-level function with similar flexibility) or `kdeplot` (an axes-level function for kernel density plots).\n",
      "  warnings.warn(msg, FutureWarning)\n"
     ]
    },
    {
     "data": {
      "image/png": "[encoded data removed]",
      "text/plain": [
       "<Figure size 432x288 with 1 Axes>"
      ]
     },
     "metadata": {},
     "output_type": "display_data"
    }
   ],
   "source": [
    "sns.distplot(random.uniform(size=1000),hist=False)\n",
    "plt.show()"
   ]
  }
 ],
 "metadata": {
  "kernelspec": {
   "display_name": "Python 3",
   "language": "python",
   "name": "python3"
  },
  "language_info": {
   "codemirror_mode": {
    "name": "ipython",
    "version": 3
   },
   "file_extension": ".py",
   "mimetype": "text/x-python",
   "name": "python",
   "nbconvert_exporter": "python",
   "pygments_lexer": "ipython3",
   "version": "3.8.5"
  }
 },
 "nbformat": 4,
 "nbformat_minor": 4
}
